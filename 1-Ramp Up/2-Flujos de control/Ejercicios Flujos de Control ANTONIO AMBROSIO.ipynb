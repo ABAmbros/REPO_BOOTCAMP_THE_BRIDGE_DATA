{
 "cells": [
  {
   "cell_type": "markdown",
   "metadata": {},
   "source": [
    "![imagen](./img/ejercicios.png)"
   ]
  },
  {
   "cell_type": "markdown",
   "metadata": {},
   "source": [
    "# Ejercicios Flujos de control"
   ]
  },
  {
   "cell_type": "markdown",
   "metadata": {},
   "source": [
    "## Ejercicio 1\n",
    "Declara una variable numérica que será una hora cualquiera del día. Implementa mediante sentencias `if/elif/else` la siguiente casuística:\n",
    "\n",
    "* Si es entre las 0 y las 8, print \"Durmiendo\"\n",
    "* Si es entre las 9 y las 18, print \"Trabajando\"\n",
    "* Si es entre las 19 y las 21, print \"Clase\"\n",
    "* Si es entre las 22 y las 24, print \"Descanso\"\n",
    "* En cualquier otro caso, print \"Transporte o error\""
   ]
  },
  {
   "cell_type": "code",
   "execution_count": 3,
   "metadata": {},
   "outputs": [
    {
     "name": "stdout",
     "output_type": "stream",
     "text": [
      "Trabajando\n"
     ]
    }
   ],
   "source": [
    "hour_ramdom = input(\"Dime la hora y te digo que estoy haciendo: \")\n",
    "hour_ramdom = int(hour_ramdom)\n",
    "\n",
    "if (hour_ramdom <= 8):\n",
    "    print(\"Durmiendo\")\n",
    "elif (hour_ramdom >= 9) & (hour_ramdom <= 18):\n",
    "    print(\"Trabajando\")\n",
    "elif (hour_ramdom >= 19) & (hour_ramdom <= 21):\n",
    "    print(\"Clase\")\n",
    "elif (hour_ramdom >= 22) & (hour_ramdom <= 24):\n",
    "    print(\"Descanso\")\n",
    "else:\n",
    "    print(\"¡Fatal error!, introduce un valor entre el 0 y el 24, gracias\")    \n",
    "\n"
   ]
  },
  {
   "cell_type": "code",
   "execution_count": 10,
   "metadata": {},
   "outputs": [
    {
     "name": "stdout",
     "output_type": "stream",
     "text": [
      "Durmiendo\n",
      "Trabajando\n",
      "Clase\n",
      "Descanso\n",
      "Transporte o error\n"
     ]
    }
   ],
   "source": [
    "# aqui vamos a definir la variante de ejecucion en bucle\n",
    "\n",
    "\n",
    "hour_ramdom = input(\"Dime la hora y te digo que estoy haciendo: \")\n",
    "\n",
    "ls_horas = [5, 11, 20, 23, 27]\n",
    "rg_horas = range(0, 25, 1)\n",
    "\n",
    "for i in ls_horas:\n",
    "    if (i >= 1)&(i<=8):\n",
    "        print(\"Durmiendo\")\n",
    "    elif (i>=9)&(i<=18):\n",
    "        print(\"Trabajando\")\n",
    "    elif (i>=19)&(i<=21):\n",
    "        print(\"Clase\")\n",
    "    elif (i>=22)&(i<=24):\n",
    "        print(\"Descanso\")\n",
    "    else:\n",
    "        print(\"Transporte o error\") "
   ]
  },
  {
   "cell_type": "markdown",
   "metadata": {},
   "source": [
    "## Ejercicio 2\n",
    "En este ejercicio vamos a implementar un calculador de precios de casas muy sencillo. Tenemos las siguientes variables:\n",
    "\n",
    "> superficie\n",
    ">\n",
    "> distrito\n",
    "\n",
    "Implementa mediante sentencias `if/elif/else` la siguiente casuística:\n",
    "\n",
    "1. Si el distrito es \"Moncloa\" o \"Centro\", y además la superficie es superior a 100 metros cuadrados, el precio de la casa es de 1000\n",
    "2. Si el distrito es \"Salamanca\", y además la superficie de la casa es al menos de 150 metros, el precio de la casa es de 1500\n",
    "3. Si el distrito no es \"Retiro\" y la superficie está entre 60 y 80 metros, el precio es de 600\n",
    "4. En cualquier otro caso, el precio será de 0"
   ]
  },
  {
   "cell_type": "code",
   "execution_count": 14,
   "metadata": {},
   "outputs": [
    {
     "name": "stdout",
     "output_type": "stream",
     "text": [
      "Esta zona no la trabajamos, disculpe\n"
     ]
    }
   ],
   "source": [
    "# Mi manera de hacerlo\n",
    "\n",
    "distrito = input(\"Vamos a calcular el precio de tu vivienda, en que distrito estás buscando: \")\n",
    "superficie = float(input(\"Y cuantos son los metros cuadrados que buscas para tu vivienda: \"))\n",
    "\n",
    "\n",
    "if ((distrito == \"Moncloa\") | (distrito == \"Centro\")) & (superficie > 100):\n",
    "    print(\"El precio en esta zona ronda los 1000€\")\n",
    "elif (distrito == \"Salamanca\") & (superficie >= 150):\n",
    "    print(\"El precio en esta zona ronda los 1500€\")\n",
    "elif (distrito != \"Retiro\") & (superficie >= 60) & (superficie <= 80):\n",
    "    print(\"El precio en esta zona ronda los 600€\")\n",
    "else:\n",
    "    print(\"Esta zona no la trabajamos, disculpe\")\n",
    "\n"
   ]
  },
  {
   "cell_type": "code",
   "execution_count": 16,
   "metadata": {},
   "outputs": [
    {
     "name": "stdout",
     "output_type": "stream",
     "text": [
      "El precio de la casa es de 0€\n"
     ]
    }
   ],
   "source": [
    "# Otra manera de hacerlo más resumida y más abreviada\n",
    "\n",
    "dist = input(\"Introduzca el distrito\")\n",
    "surf = float(input(\"Introduzca la superficie de la casa\"))\n",
    "\n",
    "\n",
    "if ((dist == \"Moncloa\")|(dist == \"Centro\"))&(surf > 100):\n",
    "    precio = 1000\n",
    "elif (dist == \"Salamanca\")&(surf >= 150):\n",
    "    precio = 1500\n",
    "elif (dist != \"Retiro\")&(60 <= surf <= 80):\n",
    "    precio = 600\n",
    "else:\n",
    "    precio = 0\n",
    "\n",
    "\n",
    "print(f\"El precio de la casa es de {precio}€\")"
   ]
  },
  {
   "cell_type": "code",
   "execution_count": null,
   "metadata": {},
   "outputs": [],
   "source": []
  },
  {
   "cell_type": "markdown",
   "metadata": {},
   "source": [
    "## Ejercicio 3\n",
    "En este ejercicio vamos a realizar un programa muy parecido. Para este caso queremos que se cumplan las siguientes condiciones:\n",
    "\n",
    "1. Primero se compruebe si el distrito es \"Retiro\". Si es asi, que imprima \"Distrito Retiro\", y si no, \"Otro distrito\"\n",
    "2. Si el distrito es \"Retiro\", comprueba si si la superficie es mayor de 100 metros cuadrados. En tal caso que imprima un precio de 1000, y si no, de 500.\n",
    "\n",
    "Hay que usar `ifs` anidados"
   ]
  },
  {
   "cell_type": "markdown",
   "metadata": {},
   "source": []
  },
  {
   "cell_type": "code",
   "execution_count": 22,
   "metadata": {},
   "outputs": [
    {
     "name": "stdout",
     "output_type": "stream",
     "text": [
      "Distrito Retiro\n",
      "El precio de la vivienda en el Retiro con una superficie de 40m2 ronda los 500€\n"
     ]
    }
   ],
   "source": [
    "# Mi manera de hacerlo\n",
    "\n",
    "distrito = input(\"Vamos a calcular el precio de tu vivienda, en que distrito estás buscando: \")\n",
    "superficie = float(input(\"Y cuantos son los metros cuadrados que buscas para tu vivienda: \"))\n",
    "\n",
    "if (distrito == \"Retiro\"):\n",
    "    print(\"Distrito Retiro\")\n",
    "\n",
    "    if (superficie > 100):\n",
    "        precio = 1000\n",
    "    else:\n",
    "        precio = 500\n",
    "    \n",
    "    print(f\"El precio de la vivienda en el Retiro con una superficie de {superficie:.0f}m2 ronda los {precio}€\")\n",
    "else:\n",
    "    print(\"Otro distrito\")"
   ]
  },
  {
   "cell_type": "markdown",
   "metadata": {},
   "source": [
    "## Ejercicio 4\n",
    "Escribe un programa que tenga dos variables: un numero, y una lista numérica. El programa debe recorrer la lista e imprimir por pantalla cada elemento de la lista multiplicado por el número"
   ]
  },
  {
   "cell_type": "code",
   "execution_count": 24,
   "metadata": {},
   "outputs": [
    {
     "name": "stdout",
     "output_type": "stream",
     "text": [
      "20\n",
      "40\n",
      "60\n"
     ]
    }
   ],
   "source": [
    "# Mi manera de hacerlo\n",
    "\n",
    "num = 10\n",
    "ls_num = [2, 4, 6]\n",
    "\n",
    "for i in ls_num:\n",
    "    print(num * i)"
   ]
  },
  {
   "cell_type": "markdown",
   "metadata": {},
   "source": [
    "## Ejercicio 5\n",
    "Imprime por pantalla los números -10 al -1. En ese orden. Consulta [la documentación](https://www.w3schools.com/python/ref_func_range.asp) de `range`"
   ]
  },
  {
   "cell_type": "code",
   "execution_count": 28,
   "metadata": {},
   "outputs": [
    {
     "name": "stdout",
     "output_type": "stream",
     "text": [
      "[-10, -9, -8, -7, -6, -5, -4, -3, -2, -1]\n"
     ]
    }
   ],
   "source": [
    "# Manera mas simple. \n",
    "\n",
    "print(list(range(-10, 0))) # recordar que el nummero de la derecha nunca se muestra, se muestra su anterior"
   ]
  },
  {
   "cell_type": "markdown",
   "metadata": {},
   "source": [
    "## Ejercicio 6\n",
    "Dada la siguiente lista:\n",
    "\n",
    "> list1 = [12, 15, 32, 42, 55, 75, 122, 132, 150, 180, 200]\n",
    "\n",
    "Implementa un programa que los recorra e imprima por pantalla todos los divisibles por 5. Si nos encontramos con alguno que sea mayor que 150, detener el bucle."
   ]
  },
  {
   "cell_type": "code",
   "execution_count": 1,
   "metadata": {},
   "outputs": [
    {
     "name": "stdout",
     "output_type": "stream",
     "text": [
      "15\n",
      "55\n",
      "75\n"
     ]
    }
   ],
   "source": [
    "list1 = [12, 15, 32, 42, 55, 75, 122, 132, 150, 180, 200]\n",
    "\n",
    "# (i) recorre la lista (list1), si (if) i es mayor o igual (>=) que 150, paramos el programa, detenemos el bucle. \n",
    "# si (if) i (alguno de los elementos de la lista) es divisible entre 5 (i % 5 == 0) imprime en pantalla dicho número de la lista, en bucle recorriendo cada elemento de la lista\n",
    "\n",
    "for i in list1: \n",
    "    if i >= 150:\n",
    "        break\n",
    "    if (i % 5 == 0):\n",
    "        print(i)"
   ]
  },
  {
   "cell_type": "markdown",
   "metadata": {},
   "source": [
    "## Ejercicio 7\n",
    "Escribe un programa en Python que imprima por pantalla todos los números divisibles por 5 y divisibles por 7, dentro del rango de valores (150, 350)"
   ]
  },
  {
   "cell_type": "code",
   "execution_count": 31,
   "metadata": {},
   "outputs": [
    {
     "name": "stdout",
     "output_type": "stream",
     "text": [
      "175\n",
      "210\n",
      "245\n",
      "280\n",
      "315\n",
      "350\n"
     ]
    }
   ],
   "source": [
    "list2 = range(150, 351) # Con range definimos que la lista contiene los numeros entre 150 y 350. Para que nos muestre todos ellos, el de la derecha deberá ser 351, ya que como sabemos el numero de la derecha no se muestra, asi que ponemos uno mas para que nos muestre el anterior.\n",
    "\n",
    "for i in list2:\n",
    "    if (i % 5 == 0) & (i % 7 == 0):\n",
    "        print(i)"
   ]
  },
  {
   "cell_type": "code",
   "execution_count": 32,
   "metadata": {},
   "outputs": [
    {
     "name": "stdout",
     "output_type": "stream",
     "text": [
      "175\n",
      "210\n",
      "245\n",
      "280\n",
      "315\n",
      "350\n"
     ]
    }
   ],
   "source": [
    "# otra manera más limpia\n",
    "\n",
    "for i in list2:\n",
    "    if (i%5 == 0):\n",
    "        if (i%7 == 0):\n",
    "            print(i)"
   ]
  },
  {
   "cell_type": "markdown",
   "metadata": {},
   "source": [
    "## Ejercicio 8\n",
    "Implementa un programa que imprima por pantalla el siguiente patrón\n",
    "\n",
    "5 4 3 2 1 \n",
    "\n",
    "4 3 2 1 \n",
    "\n",
    "3 2 1 \n",
    "\n",
    "2 1 \n",
    "\n",
    "1\n",
    "\n",
    "NOTA: NO hay lineas en blanco entre una línea y otra."
   ]
  },
  {
   "cell_type": "code",
   "execution_count": 33,
   "metadata": {},
   "outputs": [
    {
     "name": "stdout",
     "output_type": "stream",
     "text": [
      "5 4 3 2 1 \n",
      "\n",
      "4 3 2 1 \n",
      "\n",
      "3 2 1 \n",
      "\n",
      "2 1 \n",
      "\n",
      "1 \n",
      "\n"
     ]
    }
   ],
   "source": [
    "\n",
    "for j in range(5, 0, -1):\n",
    "    for i in range(j, 0, -1):\n",
    "        print(i, end=' ')\n",
    "    print(\"\\n\")"
   ]
  },
  {
   "cell_type": "markdown",
   "metadata": {},
   "source": [
    "## Ejercicio 9\n",
    "En este ejercicio vamos a crear un pequeño juego. Se trata de intentar adivinar un numero del 1 al 5. Tenemos dos intentos para acertar. Pasos a seguir:\n",
    "\n",
    "1. Ya viene implementado cómo obtener un número aleatorio del 1 al 5\n",
    "2. Tendrás que declarar en una variable el numero de vidas, y mediante un bucle while, comprobar que todavia quedan vidas.\n",
    "3. Dentro del bucle, obtener el valor del usuario y comprobar si es ese el numero a adivinar. Si no, actualizar las vidas.\n",
    "4. Si acertamos, salimos del bucle e imprimimos por pantalla \"You win\". Y si perdemos también salimos del bucle, pero en este caso imprimimos por pantalla \"You lose\".\n",
    "\n",
    "TIP: te puede resultar útil usar la sentencia `else` cuando acabe el bucle `while`. Lo que haya dentro de ese `else` se ejecutará una vez acabe la ejecución del `while`. Lo podrás usar para cuando pierdas."
   ]
  },
  {
   "cell_type": "code",
   "execution_count": 1,
   "metadata": {},
   "outputs": [],
   "source": [
    "from random import randint\n",
    "\n",
    "# Genera un numero aleatorio del 1 al 5\n",
    "random_number = randint(1, 5)\n"
   ]
  },
  {
   "cell_type": "code",
   "execution_count": 13,
   "metadata": {},
   "outputs": [
    {
     "name": "stdout",
     "output_type": "stream",
     "text": [
      "You Win!\n"
     ]
    }
   ],
   "source": [
    "from random import randint\n",
    "\n",
    "# Genera un numero aleatorio del 1 al 5\n",
    "random_number = randint(1, 5)\n",
    "\n",
    "\n",
    "# Numero de vidas\n",
    "max_int = 2\n",
    "\n",
    "while max_int > 0:\n",
    "    max = int(input(\"Adivina un número del 1 al 5, introduzca su número: \"))\n",
    "\n",
    "    if max == random_number:\n",
    "        print(\"You Win!\")\n",
    "        break\n",
    "    max_int = -1\n",
    "else: \n",
    "    print(\"You lose\")\n",
    "\n"
   ]
  },
  {
   "cell_type": "markdown",
   "metadata": {},
   "source": [
    "## Ejercicios extra"
   ]
  },
  {
   "cell_type": "markdown",
   "metadata": {},
   "source": [
    "Más ejercicios en [este link](https://www.w3resource.com/python-exercises/python-conditional-statements-and-loop-exercises.php)\n",
    "\n",
    "Y [aquí](https://erlerobotics.gitbooks.io/erle-robotics-learning-python-gitbook-free/loops/exercises_loops.html)"
   ]
  }
 ],
 "metadata": {
  "kernelspec": {
   "display_name": "Python 3.7.4 64-bit",
   "language": "python",
   "name": "python3"
  },
  "language_info": {
   "codemirror_mode": {
    "name": "ipython",
    "version": 3
   },
   "file_extension": ".py",
   "mimetype": "text/x-python",
   "name": "python",
   "nbconvert_exporter": "python",
   "pygments_lexer": "ipython3",
   "version": "3.7.4"
  },
  "vscode": {
   "interpreter": {
    "hash": "aee8b7b246df8f9039afb4144a1f6fd8d2ca17a180786b69acc140d282b71a49"
   }
  }
 },
 "nbformat": 4,
 "nbformat_minor": 4
}
