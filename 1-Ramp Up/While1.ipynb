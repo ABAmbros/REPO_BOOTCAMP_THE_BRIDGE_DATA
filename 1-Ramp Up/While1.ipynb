{
 "cells": [
  {
   "cell_type": "code",
   "execution_count": 2,
   "metadata": {},
   "outputs": [
    {
     "name": "stdout",
     "output_type": "stream",
     "text": [
      "Error -> Debería ser un nuemro positivo\n",
      "Error -> Debería ser un nuemro positivo\n",
      "\n",
      "Su raiz cuadrada es: 2.45\n"
     ]
    }
   ],
   "source": [
    "# Bucle while \n",
    "\n",
    "import math\n",
    "\n",
    "number = int(input(\"Escriba un número para realizarle su raiz cuadrda: \"))\n",
    "\n",
    "while number < 0:\n",
    "    print(\"Error -> Debería ser un nuemro positivo\")\n",
    "    number = int(input(\"Intentelo con otro numero: \"))\n",
    "\n",
    "print(f\"\\nSu raiz cuadrada es: {(math.sqrt(number)):.2f}\")"
   ]
  },
  {
   "cell_type": "code",
   "execution_count": 6,
   "metadata": {},
   "outputs": [
    {
     "name": "stdout",
     "output_type": "stream",
     "text": [
      " Marina -> 35\n",
      " Juan -> 21\n",
      " Yo -> 36\n",
      " manolito -> 22\n"
     ]
    }
   ],
   "source": [
    "# Bucle for recorriendo/iterando Diccionarios\n",
    "\n",
    "from multiprocessing.sharedctypes import Value\n",
    "\n",
    "\n",
    "mi_diccionario = {\"Marina\": 35,\n",
    "                \"Juan\": 21, \n",
    "                \"Yo\": 36,\n",
    "                \"manolito\": 22}\n",
    "\n",
    "for key, value in mi_diccionario.items():\n",
    "    print(f\" {key} -> {value}\")"
   ]
  },
  {
   "cell_type": "code",
   "execution_count": 11,
   "metadata": {},
   "outputs": [
    {
     "name": "stdout",
     "output_type": "stream",
     "text": [
      "A\n",
      "n\n",
      "t\n",
      "o\n",
      "n\n",
      "i\n",
      "o\n",
      "\n",
      "\n",
      "A n t o n i o "
     ]
    }
   ],
   "source": [
    "# Bucle for recorriendo/iterando un String\n",
    "\n",
    "my_name = \"Antonio\"\n",
    "\n",
    "for i in my_name:\n",
    "    print(f\"{i}\")\n",
    "\n",
    "print(\"\\n\")\n",
    "\n",
    "for i in my_name:\n",
    "    print(f\"{i}\", end = \" \")   "
   ]
  },
  {
   "cell_type": "code",
   "execution_count": 22,
   "metadata": {},
   "outputs": [
    {
     "name": "stdout",
     "output_type": "stream",
     "text": [
      "introduzca un valor entre el 0 y el 9: \n"
     ]
    }
   ],
   "source": [
    "# Bucle for recorriendo/iterando con range\n",
    "\n",
    "# Vamos a mostrar un tabla de multiplicar de algun número en concreto\n",
    "\n",
    "num = int(input(\"Ingrese un numero: \"))\n",
    "result = i * num\n",
    "\n",
    "for i in range(10):\n",
    "    if result <= 9:\n",
    "        print(i, \"x\", num, \"es =\", result)\n",
    "if result > 9:\n",
    "    print(\"introduzca un valor entre el 0 y el 9: \")\n"
   ]
  }
 ],
 "metadata": {
  "kernelspec": {
   "display_name": "Python 3.7.4 64-bit",
   "language": "python",
   "name": "python3"
  },
  "language_info": {
   "codemirror_mode": {
    "name": "ipython",
    "version": 3
   },
   "file_extension": ".py",
   "mimetype": "text/x-python",
   "name": "python",
   "nbconvert_exporter": "python",
   "pygments_lexer": "ipython3",
   "version": "3.7.4"
  },
  "orig_nbformat": 4,
  "vscode": {
   "interpreter": {
    "hash": "aee8b7b246df8f9039afb4144a1f6fd8d2ca17a180786b69acc140d282b71a49"
   }
  }
 },
 "nbformat": 4,
 "nbformat_minor": 2
}
