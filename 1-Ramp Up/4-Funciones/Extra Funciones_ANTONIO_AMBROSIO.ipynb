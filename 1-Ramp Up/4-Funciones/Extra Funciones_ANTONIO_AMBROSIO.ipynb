{
 "cells": [
  {
   "cell_type": "markdown",
   "metadata": {},
   "source": [
    "# Ejercicio Extra Funciones"
   ]
  },
  {
   "cell_type": "markdown",
   "metadata": {},
   "source": [
    "#### 1. Write a Python function to find the Max of three numbers"
   ]
  },
  {
   "cell_type": "code",
   "execution_count": 2,
   "metadata": {},
   "outputs": [],
   "source": [
    "def max_3n(x, y, z):\n",
    "    if (x >= z) & (x >= y):\n",
    "        return x\n",
    "    elif (y >= z) & (y >= x):\n",
    "        return y\n",
    "    elif (z >= x) & (z >= y):\n",
    "        return z"
   ]
  },
  {
   "cell_type": "code",
   "execution_count": 3,
   "metadata": {},
   "outputs": [
    {
     "name": "stdout",
     "output_type": "stream",
     "text": [
      "El mayor de los 3 números es 9\n"
     ]
    }
   ],
   "source": [
    "a = max_3n(6, 9, 6)\n",
    "\n",
    "print(f\"El mayor de los 3 números es {a}\")"
   ]
  },
  {
   "cell_type": "code",
   "execution_count": 4,
   "metadata": {},
   "outputs": [
    {
     "data": {
      "text/plain": [
       "7"
      ]
     },
     "execution_count": 4,
     "metadata": {},
     "output_type": "execute_result"
    }
   ],
   "source": [
    "def max_2n(x, y):\n",
    "    if x>=y:\n",
    "        return x\n",
    "    else:\n",
    "        return y\n",
    "\n",
    "def max_3n(x, y, z):\n",
    "    m1 = max_2n(x, y)\n",
    "    return max(m1, z)\n",
    "\n",
    "max_3n(7, 3, 1)"
   ]
  },
  {
   "cell_type": "markdown",
   "metadata": {},
   "source": [
    "#### 2. Write a Python function to sum all the numbers in a list"
   ]
  },
  {
   "cell_type": "code",
   "execution_count": 5,
   "metadata": {},
   "outputs": [
    {
     "name": "stdout",
     "output_type": "stream",
     "text": [
      "39\n"
     ]
    }
   ],
   "source": [
    " \n",
    "def sumtotal(list, size):\n",
    "   if (size == 0):\n",
    "     return 0\n",
    "   else:\n",
    "     return list[size - 1] + sumtotal(list, size - 1)\n",
    "\n",
    "\n",
    "my_list = [1,8,3,4,10,1,7,5]\n",
    "total = sumtotal(my_list, len(my_list))\n",
    "print(total)"
   ]
  },
  {
   "cell_type": "markdown",
   "metadata": {},
   "source": [
    "#### 3. Write a Python function to multiply all the numbers in a list."
   ]
  },
  {
   "cell_type": "code",
   "execution_count": 8,
   "metadata": {},
   "outputs": [
    {
     "name": "stdout",
     "output_type": "stream",
     "text": [
      "33600\n"
     ]
    }
   ],
   "source": [
    "import numpy\n",
    "\n",
    "def mul_list(list):\n",
    "     return numpy.prod(list)\n",
    "\n",
    "\n",
    "my_list = [1,8,3,4,10,1,7,5]\n",
    "print(mul_list(my_list))\n",
    "\n",
    "\n"
   ]
  },
  {
   "cell_type": "markdown",
   "metadata": {},
   "source": [
    "#### 4. Write a Python program to reverse a string"
   ]
  },
  {
   "cell_type": "code",
   "execution_count": 13,
   "metadata": {},
   "outputs": [
    {
     "name": "stdout",
     "output_type": "stream",
     "text": [
      "allívessevilla\n",
      "allivessevílla \n"
     ]
    }
   ],
   "source": [
    "def reverse(my_str):\n",
    "    string = \" \"\n",
    "    for i in my_str:\n",
    "        string = i + string\n",
    "    return string\n",
    "\n",
    "my_str = \"allívessevilla\"\n",
    "print(my_str)\n",
    "print(reverse(my_str)) "
   ]
  },
  {
   "cell_type": "markdown",
   "metadata": {},
   "source": [
    "#### 5. Write a Python function to calculate the factorial of a number (a non-negative integer). The function accepts the number as an argument"
   ]
  },
  {
   "cell_type": "code",
   "execution_count": 18,
   "metadata": {},
   "outputs": [
    {
     "data": {
      "text/plain": [
       "6"
      ]
     },
     "execution_count": 18,
     "metadata": {},
     "output_type": "execute_result"
    }
   ],
   "source": [
    "def fact(numb): \n",
    "\tif(numb == 1): \n",
    "\t\treturn 1 \n",
    "\ts = numb * fact(numb -1) \n",
    "\treturn s; \n",
    "\n",
    "\n",
    "fact(3)"
   ]
  },
  {
   "cell_type": "markdown",
   "metadata": {},
   "source": [
    "#### 6. Write a Python function to check whether a number falls in a given range"
   ]
  },
  {
   "cell_type": "code",
   "execution_count": 22,
   "metadata": {},
   "outputs": [
    {
     "name": "stdout",
     "output_type": "stream",
     "text": [
      "El número no está en el rango dado\n"
     ]
    }
   ],
   "source": [
    "def f_check(n):\n",
    "    if n in range(0,15):\n",
    "        print((n))\n",
    "    else :\n",
    "        print(\"El número no está en el rango dado\")\n",
    "\n",
    "f_check(16)"
   ]
  },
  {
   "cell_type": "markdown",
   "metadata": {},
   "source": [
    "#### 7. Write a Python function that accepts a string and calculate the number of upper case letters and lower case letters"
   ]
  },
  {
   "cell_type": "code",
   "execution_count": 58,
   "metadata": {},
   "outputs": [
    {
     "name": "stdout",
     "output_type": "stream",
     "text": [
      "El string contiene: 4 mayúsculas y 14 minúsculas\n"
     ]
    }
   ],
   "source": [
    "def calculate_up_low(s):      \n",
    "    u = sum(1 for i in s if i.isupper())\n",
    "    l = sum(1 for i in s if i.islower())\n",
    "    print(f\"El string contiene: {u} mayúsculas y {l} minúsculas\")    \n",
    "\n",
    "calculate_up_low(\"Fernando El Del Mango\")\n"
   ]
  }
 ],
 "metadata": {
  "kernelspec": {
   "display_name": "Python 3",
   "language": "python",
   "name": "python3"
  },
  "language_info": {
   "codemirror_mode": {
    "name": "ipython",
    "version": 3
   },
   "file_extension": ".py",
   "mimetype": "text/x-python",
   "name": "python",
   "nbconvert_exporter": "python",
   "pygments_lexer": "ipython3",
   "version": "3.7.4"
  },
  "orig_nbformat": 4,
  "vscode": {
   "interpreter": {
    "hash": "aee8b7b246df8f9039afb4144a1f6fd8d2ca17a180786b69acc140d282b71a49"
   }
  }
 },
 "nbformat": 4,
 "nbformat_minor": 2
}
