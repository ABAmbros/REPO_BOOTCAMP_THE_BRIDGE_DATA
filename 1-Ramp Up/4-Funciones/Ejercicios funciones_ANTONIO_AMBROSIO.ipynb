{
 "cells": [
  {
   "cell_type": "markdown",
   "metadata": {},
   "source": [
    "![imagen](./img/ejercicios.png)"
   ]
  },
  {
   "cell_type": "markdown",
   "metadata": {},
   "source": [
    "# Ejercicios funciones\n",
    "## Ejercicio 1\n",
    "Escribe una función que convierta números del 1 al 7 en nombres de los dias de la semana. La función constará de un único argumento numérico y una salida de tipo string"
   ]
  },
  {
   "cell_type": "code",
   "execution_count": null,
   "metadata": {},
   "outputs": [],
   "source": [
    "# crea un diccionario con los dias de la semana y el numero ej: {1: 'lunes', 2: 'martes' ...}\n",
    "# el valor de la función será el key del cual tu sacarás el día\n"
   ]
  },
  {
   "cell_type": "code",
   "execution_count": 12,
   "metadata": {},
   "outputs": [
    {
     "name": "stdout",
     "output_type": "stream",
     "text": [
      "Martes\n"
     ]
    }
   ],
   "source": [
    "def semana_vs_num (num):\n",
    "    dia=[\"Lunes\", \"Martes\", \"Miercoles\", \"Jueves\", \"Viernes\", \"Sabado\", \"Domingo\"]\n",
    "    return dia[num-1]\n",
    "\n",
    "num = 2\n",
    "print(semana_vs_num(num))"
   ]
  },
  {
   "cell_type": "markdown",
   "metadata": {},
   "source": [
    "## Ejercicio 2\n",
    "En el ejercicio 8 de bucles, creábamos una pirámide invertida, cuyo número de pisos venía determinado por un input del usuario. Crear una función que replique el comportamiento de la pirámide, y utiliza un único parámetro de entrada de la función para determinar el número de filas de la pirámide, es decir, elimina la sentencia input."
   ]
  },
  {
   "cell_type": "code",
   "execution_count": 7,
   "metadata": {},
   "outputs": [
    {
     "name": "stdout",
     "output_type": "stream",
     "text": [
      "o o o o o o \n",
      "o o o o o \n",
      "o o o o \n",
      "o o o \n",
      "o o \n",
      "o \n"
     ]
    }
   ],
   "source": [
    "def piramide (n): \n",
    "    for i in range(n):\n",
    "        for j in range (i, n):\n",
    "            print(\"o\", end = \" \")\n",
    "        print()\n",
    "\n",
    "n = 6\n",
    "piramide(6)"
   ]
  },
  {
   "cell_type": "markdown",
   "metadata": {},
   "source": [
    "## Ejercicio 3\n",
    "Escibe una función que compare dos números. La función tiene dos argumentos y hay tres salidas posibles: que sean iguales, que el primero se  mayor que el segundo, o que el segundo sea mayor que el primero"
   ]
  },
  {
   "cell_type": "code",
   "execution_count": 11,
   "metadata": {},
   "outputs": [
    {
     "name": "stdout",
     "output_type": "stream",
     "text": [
      "El segundo número es mayor que primero\n"
     ]
    }
   ],
   "source": [
    "def compara_num (x,y):\n",
    "    if (x == y):\n",
    "        return \"Son Iguales\"\n",
    "    elif (x > y):\n",
    "        return \"El primer número es mayor que segundo\"\n",
    "    else:\n",
    "        return \"El segundo número es mayor que primero\"\n",
    "    \n",
    "\n",
    "print(compara_num(6, 50))"
   ]
  },
  {
   "cell_type": "markdown",
   "metadata": {},
   "source": [
    "## Ejercicio 4\n",
    "Escribe una función que sea un contador de letras. En el primer argumento tienes que introducir un texto, y el segundo que sea la letra a contar. La función tiene que devolver un entero con el número de veces que aparece esa letra, tanto mayuscula, como minúscula"
   ]
  },
  {
   "cell_type": "code",
   "execution_count": 13,
   "metadata": {},
   "outputs": [
    {
     "name": "stdout",
     "output_type": "stream",
     "text": [
      "6\n"
     ]
    }
   ],
   "source": [
    "def cuenta_letras(txt, letra):\n",
    "    x = int(txt.lower().count(letra.lower()))\n",
    "    return x\n",
    "\n",
    "txt = \"ExcelEntemEnte\"\n",
    "letra = \"e\"\n",
    "print (cuenta_letras(txt, letra))"
   ]
  },
  {
   "cell_type": "markdown",
   "metadata": {},
   "source": [
    "## Ejercicio 5\n",
    "Escribe una función que tenga un único argumento, un string. La salida de la función tiene que ser un diccionario con el conteo de todas las letras de ese string."
   ]
  },
  {
   "cell_type": "code",
   "execution_count": 17,
   "metadata": {},
   "outputs": [
    {
     "name": "stdout",
     "output_type": "stream",
     "text": [
      "{'a': 1, 'b': 0, 'c': 1, 'd': 2, 'e': 4, 'f': 0, 'g': 0, 'h': 0, 'i': 2, 'j': 0, 'k': 0, 'l': 1, 'm': 1, 'n': 1, 'o': 4, 'p': 0, 'q': 0, 'r': 1, 's': 2, 't': 2, 'u': 0, 'v': 0, 'w': 0, 'x': 0, 'y': 0, 'z': 0}\n"
     ]
    }
   ],
   "source": [
    "def conteo_dic(txt):\n",
    "    abecedario = [\"a\", \"b\", \"c\", \"d\", \"e\", \"f\", \"g\", \"h\", \"i\", \"j\", \"k\", \"l\", \"m\", \"n\", \"o\", \"p\", \"q\", \"r\", \"s\", \"t\", \"u\", \"v\", \"w\", \"x\", \"y\", \"z\"]\n",
    "    dic = {}\n",
    "    for letra in abecedario:\n",
    "        n = cuenta_letras(txt, letra)\n",
    "        dic[letra] = n\n",
    "    return dic\n",
    "           \n",
    "argu = \"Esternocleidomastoideo\"\n",
    "\n",
    "resultado = conteo_dic(argu)\n",
    "print(resultado)"
   ]
  },
  {
   "cell_type": "markdown",
   "metadata": {},
   "source": [
    "## Ejercicio 6\n",
    "Escribir una función que añada o elimine elementos en una lista. La función necesita los siguientes argumentos:\n",
    "* lista: la lista donde se añadirán o eliminarán los elementos\n",
    "* comando: \"add\" o \"remove\"\n",
    "* elemento: Por defecto es None."
   ]
  },
  {
   "cell_type": "code",
   "execution_count": 18,
   "metadata": {},
   "outputs": [
    {
     "name": "stdout",
     "output_type": "stream",
     "text": [
      "['Fernando', 'Mariela']\n"
     ]
    }
   ],
   "source": [
    "def funcion_add_remove (ls, comando, elemento = None):\n",
    "    if (comando == \"add\"):\n",
    "        ls.append(elemento)\n",
    "    if (comando == \"remove\"):\n",
    "        ls.remove(elemento)\n",
    "    return ls\n",
    "        \n",
    "list =[ \"Fernando\", \"Alberto\", \"Mariela\"]\n",
    "\n",
    "        \n",
    "print(funcion_add_remove(list, \"remove\", \"Alberto\"))"
   ]
  },
  {
   "cell_type": "markdown",
   "metadata": {},
   "source": [
    "## Ejercicio 7\n",
    "Crea una función que reciba un número arbitrario de palabras, y devuelva una frase completa, separando las palabras con espacios."
   ]
  },
  {
   "cell_type": "code",
   "execution_count": 19,
   "metadata": {},
   "outputs": [
    {
     "name": "stdout",
     "output_type": "stream",
     "text": [
      "Hola, ¿me pones unos espetos?\n"
     ]
    }
   ],
   "source": [
    "def frase_comp (palabra1, palabra2, palabra3, palabra4, palabra5):\n",
    "    x = palabra1 + \" \" + palabra2 + \" \" + palabra3 + \" \" + palabra4 + \" \" + palabra5\n",
    "    return x\n",
    "    \n",
    "palabra1 = \"Hola,\"\n",
    "palabra2 = \"¿me\"\n",
    "palabra3 = \"pones\"\n",
    "palabra4 = \"unos\"\n",
    "palabra5 = \"espetos?\"\n",
    "\n",
    "print(frase_comp(palabra1, palabra2, palabra3, palabra4, palabra5))"
   ]
  },
  {
   "cell_type": "markdown",
   "metadata": {},
   "source": [
    "## Ejercicio 8\n",
    "Escribe un programa que obtenga el enésimo número de la [serie de Fibonacci](https://es.wikipedia.org/wiki/Sucesi%C3%B3n_de_Fibonacci). Tienes que crear una función recursiva con un único argumento.\n",
    "\n",
    "```Python\n",
    "fibonacci(2) = 1\n",
    "fibonacci(4) = 3\n",
    "fibonacci(5) = 5\n",
    "fibonacci(8) = 21\n",
    "```"
   ]
  },
  {
   "cell_type": "code",
   "execution_count": null,
   "metadata": {},
   "outputs": [],
   "source": []
  },
  {
   "cell_type": "markdown",
   "metadata": {},
   "source": [
    "## Ejercicio 9\n",
    "Define en una única celda las siguientes funciones:\n",
    "* Función que calcule el área de un cuadrado\n",
    "* Función que calcule el area de un triángulo\n",
    "* Función que calcule el área de un círculo\n",
    "\n",
    "En otra celda, calcular el area de:\n",
    "* Dos círculos de radio 10 + un triángulo de base 3 y altura 7\n",
    "* Un cuadrado de lado = 10 + 3 círculos (uno de radio = 4 y los otros dos de radio = 6) + 5 triángulos de base = 2 + altura = 4"
   ]
  },
  {
   "cell_type": "code",
   "execution_count": 22,
   "metadata": {},
   "outputs": [],
   "source": [
    "def a_cuadrado (lado):\n",
    "    x = lado * lado\n",
    "    return x\n",
    "\n",
    "def a_triangulo (base, altura):\n",
    "    x = (base * altura)/2\n",
    "    return x\n",
    "\n",
    "def a_circulo (radio):\n",
    "    import math\n",
    "    x = math.pi * radio **2\n",
    "    return x"
   ]
  },
  {
   "cell_type": "code",
   "execution_count": 24,
   "metadata": {},
   "outputs": [
    {
     "name": "stdout",
     "output_type": "stream",
     "text": [
      "El area de la suma del círculo y el triángulo es: 638.8185307179587\n",
      "El area del cuadrado resultante es: 396.46015351590177\n"
     ]
    }
   ],
   "source": [
    "area1 = (a_circulo(10) * 2) + a_triangulo(3, 7)\n",
    "print(f\"El area de la suma del círculo y el triángulo es: {area1}\")\n",
    "\n",
    "area2 = a_cuadrado(10) + a_circulo(4) + (2 * a_circulo(6)) + (5 * a_triangulo(2, 4))\n",
    "print(f\"El area del cuadrado resultante es: {area2}\")"
   ]
  }
 ],
 "metadata": {
  "kernelspec": {
   "display_name": "Python 3",
   "language": "python",
   "name": "python3"
  },
  "language_info": {
   "codemirror_mode": {
    "name": "ipython",
    "version": 3
   },
   "file_extension": ".py",
   "mimetype": "text/x-python",
   "name": "python",
   "nbconvert_exporter": "python",
   "pygments_lexer": "ipython3",
   "version": "3.7.4"
  },
  "vscode": {
   "interpreter": {
    "hash": "aee8b7b246df8f9039afb4144a1f6fd8d2ca17a180786b69acc140d282b71a49"
   }
  }
 },
 "nbformat": 4,
 "nbformat_minor": 4
}
