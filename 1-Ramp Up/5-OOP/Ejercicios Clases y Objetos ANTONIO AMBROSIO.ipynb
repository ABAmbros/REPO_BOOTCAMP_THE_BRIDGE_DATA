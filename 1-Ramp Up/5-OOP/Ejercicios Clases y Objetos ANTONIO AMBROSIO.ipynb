{
 "cells": [
  {
   "cell_type": "markdown",
   "metadata": {},
   "source": [
    "![imagen](./img/ejercicios.png)\n",
    "\n",
    "# Ejercicios Clases y Objetos"
   ]
  },
  {
   "cell_type": "markdown",
   "metadata": {},
   "source": [
    "## Ejercicio 1\n",
    "Somos una empresa que tiene varias tiendas de electrodomesticos. Necesitamos un programa para manejar las tiendas, ver las ventas que han tenido, cuántos empleados hay, etc... Para ello vamos a modelizar la tienda en una clase, que tendrá las siguientes características:\n",
    "* Nombre clase: \"Tienda\"\n",
    "* Atributos comunes:\n",
    "    * Tipo: \"Electrodomésticos\"\n",
    "    * Abierta: True\n",
    "* Atributos propios de cada tienda:\n",
    "    * Nombre - String\n",
    "    * Dirección - String\n",
    "    * Número de empleados - int\n",
    "    * Ventas ultimos 3 meses - Lista de 3 numeros\n",
    "* Método para calcular las ventas de todos los meses, que devuelva un numero con todas las ventas.\n",
    "* Método que calcula la media de ventas de los ultimos meses, por empleado\n",
    "* Método que devuelve en un string el nombre de la tienda, junto con su dirección.\n",
    "* Método que obtiene las ventas del último mes.\n",
    "* Método para dar una proyección de las ventas en caso de haber invertido X dinero en marketing en esa tienda. Siendo X el parámetro de entrada. Si X es menor de 1000, las ventas de los ultimos 3 meses hubiesen sido de (1.2 x ventas), si es mayor o igual de 1000, las ventas hubiesen sido de (1.5 x venta). El método reescribe el atributo de ventas en los últimos 3 meses, y además devuelve las ventas con el aumento.\n",
    "\n",
    "Se pide:\n",
    "1. Implementar la clase \"Tienda\"\n",
    "2. Crear tres tiendas con datos inventados\n",
    "3. Comprueba en al menos una de ellas, todo lo implementado en la clase tienda (sus atributos, media de ventas, ventas/empleado...)\n",
    "3. Calcular las ventas del último mes de todas las tiendas. Para ello usa el bucle `for`\n",
    "4. Imprime por pantalla los nombres de las tiendas cuya dirección lleve el string \"Avenida\"\n",
    "5. Seguro que ya has hecho este apartado... Documenta la clase :)"
   ]
  },
  {
   "cell_type": "code",
   "execution_count": 2,
   "metadata": {},
   "outputs": [],
   "source": [
    "class Tienda:\n",
    "    pass"
   ]
  },
  {
   "cell_type": "code",
   "execution_count": 3,
   "metadata": {},
   "outputs": [],
   "source": [
    "class Tienda:\n",
    "    Tipo = \"Electrodomesticos\" \n",
    "    Abierta = True\n"
   ]
  },
  {
   "cell_type": "code",
   "execution_count": 5,
   "metadata": {},
   "outputs": [],
   "source": [
    "tienda1 = Tienda()\n",
    "tienda2 = Tienda()\n",
    "tienda3 = Tienda()"
   ]
  },
  {
   "cell_type": "code",
   "execution_count": 11,
   "metadata": {},
   "outputs": [],
   "source": [
    "# Tienda 1\n",
    "\n",
    "\n",
    "class Tienda:\n",
    "    Tipo = \"Electrodomesticos\" \n",
    "    Abierta = True\n",
    "\n",
    "    def __init__(self, nom_tienda, dir_tienda, num_empl, ventas_last):\n",
    "        self.nombre = nom_tienda\n",
    "        self.direccion = dir_tienda\n",
    "        self.empleados = num_empl\n",
    "        self.ventas = ventas_last\n",
    "\n",
    "    "
   ]
  },
  {
   "cell_type": "code",
   "execution_count": 13,
   "metadata": {},
   "outputs": [
    {
     "data": {
      "text/plain": [
       "{'nombre': 'Tiend21',\n",
       " 'direccion': 'Calle Sardinero s/n',\n",
       " 'empleados': 6,\n",
       " 'ventas': [100, 150, 75]}"
      ]
     },
     "execution_count": 13,
     "metadata": {},
     "output_type": "execute_result"
    }
   ],
   "source": [
    "tienda1 = Tienda(\"Tiend21\", \"Calle Sardinero s/n\", 6, [100, 150, 75])\n",
    "\n",
    "tienda1.__dict__"
   ]
  },
  {
   "cell_type": "code",
   "execution_count": 14,
   "metadata": {},
   "outputs": [],
   "source": [
    "# Método que devuelve en un string el nombre de la tienda, junto con su dirección.\n",
    "\n",
    "class Tienda:\n",
    "    Tipo = \"Electrodomesticos\" \n",
    "    Abierta = True\n",
    "\n",
    "    def __init__(self, nom_tienda, dir_tienda):\n",
    "        self.nombre = nom_tienda\n",
    "        self.direccion = dir_tienda\n",
    "    \n",
    "    def caracteristicas(self):\n",
    "        return \"La tienda: \" + self.nombre + \". Su dirección en: \" + self.direccion"
   ]
  },
  {
   "cell_type": "code",
   "execution_count": 15,
   "metadata": {},
   "outputs": [
    {
     "name": "stdout",
     "output_type": "stream",
     "text": [
      "La tienda: Tiend21. Su dirección en: Calle Sardinero s/n\n"
     ]
    }
   ],
   "source": [
    "tienda1 = Tienda(\"Tiend21\", \"Calle Sardinero s/n\")\n",
    "print(tienda1.caracteristicas())"
   ]
  },
  {
   "cell_type": "code",
   "execution_count": 18,
   "metadata": {},
   "outputs": [
    {
     "data": {
      "text/plain": [
       "{'nombre': 'Milar',\n",
       " 'direccion': 'Calle Marmoles 19',\n",
       " 'empleados': 12,\n",
       " 'ventas': [500, 158, 275]}"
      ]
     },
     "execution_count": 18,
     "metadata": {},
     "output_type": "execute_result"
    }
   ],
   "source": [
    "# Tienda 2\n",
    "\n",
    "class Tienda:\n",
    "    Tipo = \"Electrodomesticos\" \n",
    "    Abierta = True\n",
    "\n",
    "    def __init__(self, nom_tienda, dir_tienda, num_empl, ventas_last):\n",
    "        self.nombre = nom_tienda\n",
    "        self.direccion = dir_tienda\n",
    "        self.empleados = num_empl\n",
    "        self.ventas = ventas_last\n",
    "\n",
    "\n",
    "tienda2 = Tienda(\"Milar\", \"Calle Marmoles 19\", 12, [500, 158, 275])\n",
    "\n",
    "tienda2.__dict__"
   ]
  },
  {
   "cell_type": "code",
   "execution_count": 19,
   "metadata": {},
   "outputs": [
    {
     "data": {
      "text/plain": [
       "{'nombre': 'Electro_Sevilla',\n",
       " 'direccion': 'Calle Triana 32',\n",
       " 'empleados': 18,\n",
       " 'ventas': [430, 80, 290]}"
      ]
     },
     "execution_count": 19,
     "metadata": {},
     "output_type": "execute_result"
    }
   ],
   "source": [
    "# Tienda 3\n",
    "\n",
    "class Tienda:\n",
    "    Tipo = \"Electrodomesticos\" \n",
    "    Abierta = True\n",
    "\n",
    "    def __init__(self, nom_tienda, dir_tienda, num_empl, ventas_last):\n",
    "        self.nombre = nom_tienda\n",
    "        self.direccion = dir_tienda\n",
    "        self.empleados = num_empl\n",
    "        self.ventas = ventas_last\n",
    "\n",
    "\n",
    "tienda3 = Tienda(\"Electro_Sevilla\", \"Calle Triana 32\", 18, [430, 80, 290])\n",
    "\n",
    "tienda3.__dict__"
   ]
  },
  {
   "cell_type": "code",
   "execution_count": 36,
   "metadata": {},
   "outputs": [
    {
     "name": "stdout",
     "output_type": "stream",
     "text": [
      "325.0\n"
     ]
    }
   ],
   "source": [
    "# Método para calcular las ventas de todos los meses, que devuelva un numero con todas las ventas.\n",
    "\n",
    "class Tienda:\n",
    "    Tipo = \"Electrodomesticos\" \n",
    "    Abierta = True\n",
    "\n",
    "    def __init__(self, ventas_last):\n",
    "        self.ventas = ventas_last\n",
    "\n",
    "        \n",
    "\n",
    "    def ventas_totales(self):\n",
    "        return float(self.ventas[0]) + float(self.ventas[1]) + float(self.ventas[2])\n",
    "\n",
    "tienda1 = Tienda([100, 150, 75])\n",
    "print(tienda1.ventas_totales())"
   ]
  },
  {
   "cell_type": "code",
   "execution_count": null,
   "metadata": {},
   "outputs": [],
   "source": [
    "# Método que calcula la media de ventas de los ultimos meses, por empleado\n",
    "\n"
   ]
  },
  {
   "cell_type": "code",
   "execution_count": 37,
   "metadata": {},
   "outputs": [],
   "source": [
    "# Método para dar una proyección de las ventas en caso de haber invertido X dinero en marketing en esa tienda. \n",
    "# Siendo X el parámetro de entrada. Si X es menor de 1000, las ventas de los ultimos 3 meses hubiesen sido de (1.2 x ventas), \n",
    "# si es mayor o igual de 1000, las ventas hubiesen sido de (1.5 x venta). \n",
    "# El método reescribe el atributo de ventas en los últimos 3 meses, y además devuelve las ventas con el aumento.\n",
    "\n",
    "inv_marketing = 55555\n",
    "\n",
    "class Tienda:\n",
    "    Tipo = \"Electrodomesticos\" \n",
    "    Abierta = True\n",
    "\n",
    "    def __init__(self, inv_marketing, ventas_last):\n",
    "        self.ventas = ventas_last\n",
    "        self.inv_marketing = inv_marketing\n",
    "\n",
    "\n",
    "\n",
    "\n",
    "\n",
    "    def preoyeccion(self):\n",
    "        \n",
    "        if self.inv_marketing < 1000:\n",
    "            return 1.2 * self.ventas\n",
    "        \n",
    "        if self.inv_marketing >= 1000:\n",
    "            return 1.5 * self.ventas\n",
    "        \n",
    "    "
   ]
  },
  {
   "cell_type": "code",
   "execution_count": null,
   "metadata": {},
   "outputs": [],
   "source": [
    "# Método que obtiene las ventas del último mes."
   ]
  },
  {
   "cell_type": "markdown",
   "metadata": {},
   "source": [
    "## Se Pide:\n"
   ]
  },
  {
   "cell_type": "code",
   "execution_count": null,
   "metadata": {},
   "outputs": [],
   "source": [
    "# 1:"
   ]
  },
  {
   "cell_type": "code",
   "execution_count": null,
   "metadata": {},
   "outputs": [],
   "source": [
    "# 2:"
   ]
  },
  {
   "cell_type": "code",
   "execution_count": null,
   "metadata": {},
   "outputs": [],
   "source": [
    "# 3:"
   ]
  },
  {
   "cell_type": "code",
   "execution_count": null,
   "metadata": {},
   "outputs": [],
   "source": [
    "# 3_2:"
   ]
  },
  {
   "cell_type": "code",
   "execution_count": null,
   "metadata": {},
   "outputs": [],
   "source": [
    "# 4:"
   ]
  },
  {
   "cell_type": "code",
   "execution_count": null,
   "metadata": {},
   "outputs": [],
   "source": [
    "# 5:"
   ]
  },
  {
   "cell_type": "markdown",
   "metadata": {},
   "source": [
    "## Ejercicio 2\n",
    "En este ejercicio vamos a implementar una clase *Perro* en Python. La clase tiene las siguientes características:\n",
    "* Cosas que sabemos seguro que tiene un perro\n",
    "    * Tiene 4 patas\n",
    "    * 2 orejas\n",
    "    * 2 ojos\n",
    "    * Una velocidad de 0. Por defecto, el perro está parado\n",
    "* Cuando se inicialice:\n",
    "    * El perro será de una determinada raza\n",
    "    * Por defecto tendrá pelo \"Marrón\", a no ser que se diga lo contrario.\n",
    "    * Por defecto no tendrá dueño, a no ser que se diga lo contrario.\n",
    "    \n",
    "* Dispondrá también de un método llamado andar, que tiene un argumento de entrada (aumento_velocidad). Este valor se le sumará a la velocidad que ya llevaba el perro.\n",
    "* Necesita otro método (parar), donde pondremos la velocidad a 0.\n",
    "* Otro método llamado \"ladrar\", que tendrá un argumento de entrada, y la salida será el siguiente string: \"GUAU!\" + el argumento de entrada.\n",
    "\n",
    "\n",
    "Se pide:\n",
    "* Implementa la clase *Perro*\n",
    "* Crea un objeto de tipo *Perro*, sin dueño\n",
    "* Comprueba que están bien todos sus atributos\n",
    "* Prueba que ande, y comprueba su velocidad\n",
    "* Páralo\n",
    "* Documenta la clase *Perro*"
   ]
  },
  {
   "cell_type": "code",
   "execution_count": null,
   "metadata": {},
   "outputs": [],
   "source": []
  }
 ],
 "metadata": {
  "kernelspec": {
   "display_name": "Python 3.7.4 64-bit",
   "language": "python",
   "name": "python3"
  },
  "language_info": {
   "codemirror_mode": {
    "name": "ipython",
    "version": 3
   },
   "file_extension": ".py",
   "mimetype": "text/x-python",
   "name": "python",
   "nbconvert_exporter": "python",
   "pygments_lexer": "ipython3",
   "version": "3.7.4"
  },
  "vscode": {
   "interpreter": {
    "hash": "aee8b7b246df8f9039afb4144a1f6fd8d2ca17a180786b69acc140d282b71a49"
   }
  }
 },
 "nbformat": 4,
 "nbformat_minor": 4
}
