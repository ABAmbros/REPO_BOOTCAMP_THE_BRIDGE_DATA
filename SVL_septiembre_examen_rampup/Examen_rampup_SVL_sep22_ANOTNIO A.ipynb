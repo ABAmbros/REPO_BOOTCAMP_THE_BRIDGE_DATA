{
 "cells": [
  {
   "cell_type": "markdown",
   "metadata": {},
   "source": [
    "# Examen Ramp-Up Sevilla Septiembre 2022"
   ]
  },
  {
   "cell_type": "markdown",
   "metadata": {},
   "source": [
    "**Aviso**: En todos los ejercicios se valorarán las buenas prácticas de programación como una parte importante de la calificación (comentarios, nombres de variables autoexplicativas)."
   ]
  },
  {
   "cell_type": "markdown",
   "metadata": {},
   "source": [
    "## Ejercicio 1: Tipos de Datos (4 puntos)"
   ]
  },
  {
   "cell_type": "markdown",
   "metadata": {},
   "source": [
    "En este ejercicio se va a crear una lista con los siguientes elementos. \n",
    "\n",
    "**IMPORTANTE**: En todos los casos, hacer print del resultado y del tipo.\n",
    "\n",
    "Primero, crearemos las variables que luego añadiremos a la lista. Las variables son las siguientes:\n",
    "\n",
    "1. Crea una variable llamada `edad` de tipo Integer que represente tu edad en años. \n",
    "2. Crea una variable llamada `nombre` de tipo String con tu nombre y otra `apellidos` con tus apellidos\n",
    "3. Concatena tu nombre seguido de un espacio en blanco y la inicial de tu primer apellido a partir de `nombre` y `apellidos`. Guárdala en `nombre_y_apellidos`.\n",
    "4. Crea una variable llamada `altura` con el valor de tu altura en metros de tipo float.\n",
    "5. Crea una variable llamada `tipo_ord` de tipo Boolean True si usas Windows y False si usas Mac.\n",
    "6. Crea una variable llamada `nada` de tipo None cuyo valor sea None.\n",
    "\n",
    "#### Listas\n",
    "8. Crea una variable llamada `lista_series` de tipo List que contenga las 5 series de TV que más te gusten. Cada elemento ha de ser de tipo String.\n",
    "9.  Añade todos estos elementos en una lista llamada `lista_examen` en el orden de aparición **usando métodos de lista**. \n",
    "10. Crea `lista_examen_mod_edad` idéntica a `lista_examen` pero sustituyendo la edad por la edad + 10.\n",
    "11. Elimina un elemento de `lista_examen_mod_edad` y guárdalo en una variable.\n",
    "\n",
    "#### Diccionarios\n",
    "11. Crea una variable llamada `dict_info` con dos keys y dos values. Una key es `ciudad`, teniendo como value la ciudad en la que vives. Otra key es `portal`, teniendo como value el número de tu calle.\n",
    "12. Muestra las claves, valores e items de `dict_info`\n",
    "13. Elimina un item usando su clave.\n",
    "\n",
    "#### Tuplas\n",
    "13. Crea una variable llamada `tupla_ropa` de tipo Tuple con la marca de la prenda superior, inferior y calzado que llevas puesto.\n",
    "14. Accede a los elementos de `tupla_ropa` y muéstralos por pantalla\n",
    "15. Convierte `tupla_ropa` en una lista `lista_ropa` usando la función necesaria para ello.\n"
   ]
  },
  {
   "cell_type": "code",
   "execution_count": 3,
   "metadata": {},
   "outputs": [
    {
     "name": "stdout",
     "output_type": "stream",
     "text": [
      "36\n",
      "<class 'int'>\n"
     ]
    }
   ],
   "source": [
    "# 1:\n",
    "Edad = 36\n",
    "Edad = int(36) # nos aseguramos que nuestra variable sea integer\n",
    "print(Edad)\n",
    "print(type(Edad)) # comprobamos que clase de variable es"
   ]
  },
  {
   "cell_type": "code",
   "execution_count": 11,
   "metadata": {},
   "outputs": [
    {
     "name": "stdout",
     "output_type": "stream",
     "text": [
      "Antonio Ambrosio Prats\n",
      "<class 'str'>\n",
      "<class 'str'>\n"
     ]
    }
   ],
   "source": [
    "# 2:\n",
    "Nombre = \"Antonio\"\n",
    "Apellidos = \"Ambrosio Prats\"\n",
    "Nombre = str(\"Antonio\") # nos aseguramos que nuestra variable sea un string\n",
    "Apellidos = str(\"Ambrosio Prats\") # nos aseguramos que nuestra variable sea un string\n",
    "print(Nombre, Apellidos)\n",
    "print(type(Nombre)) # comprobamos que clase de variable es\n",
    "print(type(Apellidos)) # comprobamos que clase de variable es"
   ]
  },
  {
   "cell_type": "code",
   "execution_count": 55,
   "metadata": {},
   "outputs": [
    {
     "name": "stdout",
     "output_type": "stream",
     "text": [
      "Antonio A\n"
     ]
    }
   ],
   "source": [
    "# 3: Concatena tu nombre seguido de un espacio en blanco y la inicial de tu primer apellido a partir de `nombre` y `apellidos`. Guárdala en `nombre_y_apellidos`.\n",
    "\n",
    "nombre_y_apellidos = (Nombre + \" \" + Apellidos[0]) # en apellidos mostramos la posición 0 de string, que es la \"A\" \n",
    "print(nombre_y_apellidos)"
   ]
  },
  {
   "cell_type": "code",
   "execution_count": 12,
   "metadata": {},
   "outputs": [
    {
     "name": "stdout",
     "output_type": "stream",
     "text": [
      "1.83\n",
      "<class 'float'>\n"
     ]
    }
   ],
   "source": [
    "# 4: \n",
    "Altura = 1.83\n",
    "Altura = float(1.83) # nos aseguramos que nuestra variable sea float\n",
    "print(Altura)\n",
    "print(type(Altura)) # comprobamos que clase de variable es"
   ]
  },
  {
   "cell_type": "code",
   "execution_count": 39,
   "metadata": {},
   "outputs": [
    {
     "name": "stdout",
     "output_type": "stream",
     "text": [
      "False\n"
     ]
    },
    {
     "data": {
      "text/plain": [
       "bool"
      ]
     },
     "execution_count": 39,
     "metadata": {},
     "output_type": "execute_result"
    }
   ],
   "source": [
    "# 5:\n",
    "tipo_ord = False # nos aseguramos que nuestra variable sea booleano\n",
    "\n",
    "print(tipo_ord)\n",
    "(type(tipo_ord)) # comprobamos que clase de variable es\n"
   ]
  },
  {
   "cell_type": "code",
   "execution_count": 41,
   "metadata": {},
   "outputs": [
    {
     "name": "stdout",
     "output_type": "stream",
     "text": [
      "None\n"
     ]
    },
    {
     "data": {
      "text/plain": [
       "NoneType"
      ]
     },
     "execution_count": 41,
     "metadata": {},
     "output_type": "execute_result"
    }
   ],
   "source": [
    "# 6:\n",
    "nada = None # nos aseguramos que nuestra variable sea de tipo None\n",
    "print(nada)\n",
    "(type(nada)) # comprobamos que clase de variable es"
   ]
  },
  {
   "cell_type": "code",
   "execution_count": 56,
   "metadata": {},
   "outputs": [
    {
     "name": "stdout",
     "output_type": "stream",
     "text": [
      "['goku', 'radma', 'breakin_bad', 'futurama', 'south_park']\n"
     ]
    }
   ],
   "source": [
    "# 8:\n",
    "listas_series = [\"goku\", \"radma\", \"breakin_bad\", \"futurama\", \"south_park\"]\n",
    "print(listas_series)"
   ]
  },
  {
   "cell_type": "code",
   "execution_count": 90,
   "metadata": {},
   "outputs": [
    {
     "name": "stdout",
     "output_type": "stream",
     "text": [
      "['Antonio', 'Ambrosio Prats', 36, 1.83, False, None, 'goku', 'radma', 'breakin_bad', 'futurama', 'south_park']\n"
     ]
    }
   ],
   "source": [
    "# 9:\n",
    "listas_todo = [Nombre, Apellidos, Edad, Altura, tipo_ord, nada,]\n",
    "lista_examen =[]\n",
    "\n",
    "\n",
    "for element in listas_todo: # itineramos por la lista origen \n",
    "    lista_examen.append(element) # para añadir cada elemento que encontremos en la nueva lista vacía\n",
    "\n",
    "lista_examen.extend(listas_series) # añadimos tambien los elementos de la lista_series\n",
    "\n",
    "print(lista_examen)"
   ]
  },
  {
   "cell_type": "code",
   "execution_count": 91,
   "metadata": {},
   "outputs": [
    {
     "name": "stdout",
     "output_type": "stream",
     "text": [
      "['Antonio', 'Ambrosio Prats', 46, 1.83, False, None, 'goku', 'radma', 'breakin_bad', 'futurama', 'south_park']\n"
     ]
    }
   ],
   "source": [
    "# 10:\n",
    "lista_examen_mod_edad = lista_examen\n",
    "\n",
    "lista_examen_mod_edad[2] = 36 + 10 # modifico la posición 2 de la lista\n",
    "\n",
    "print(lista_examen_mod_edad)"
   ]
  },
  {
   "cell_type": "code",
   "execution_count": 92,
   "metadata": {},
   "outputs": [
    {
     "name": "stdout",
     "output_type": "stream",
     "text": [
      "['Antonio', 'Ambrosio Prats', 46, 1.83, False, None, 'goku', 'radma', 'breakin_bad', 'futurama', 'south_park']\n",
      "['Antonio', 'Ambrosio Prats', 46, 1.83, False, None, 'goku', 'radma', 'breakin_bad', 'futurama']\n",
      "south_park\n"
     ]
    }
   ],
   "source": [
    "# 11:\n",
    "print(lista_examen_mod_edad)\n",
    "\n",
    "var = lista_examen_mod_edad.pop(-1) # eliminamos el elemento ultimo de la lista y lo guardamos en la variable var\n",
    "\n",
    "print(lista_examen_mod_edad)\n",
    "print(var)"
   ]
  },
  {
   "cell_type": "markdown",
   "metadata": {},
   "source": [
    "#### Diccionarios\n"
   ]
  },
  {
   "cell_type": "code",
   "execution_count": 119,
   "metadata": {},
   "outputs": [],
   "source": [
    "# 11:\n",
    "\n",
    "dict_info = {\"Ciudad\": \"Málaga\",\n",
    "            \"Portal\": \"Sardinero\"}"
   ]
  },
  {
   "cell_type": "code",
   "execution_count": 120,
   "metadata": {},
   "outputs": [
    {
     "name": "stdout",
     "output_type": "stream",
     "text": [
      "dict_keys(['Ciudad', 'Portal'])\n",
      "dict_values(['Málaga', 'Sardinero'])\n",
      "\n",
      "\n",
      " Ciudad -> Málaga\n",
      " Portal -> Sardinero\n"
     ]
    },
    {
     "data": {
      "text/plain": [
       "[('Ciudad', 'Málaga')]"
      ]
     },
     "execution_count": 120,
     "metadata": {},
     "output_type": "execute_result"
    }
   ],
   "source": [
    "# 12:\n",
    "\n",
    "print(dict_info.keys()) # Claves\n",
    "\n",
    "print(dict_info.values()) # Valores\n",
    "print(\"\\n\")\n",
    "\n",
    "for key, value in dict_info.items(): # Mostramos los items iterando en el diccionario\n",
    "    print(f\" {key} -> {value}\")\n",
    "\n",
    "# 13:\n",
    "\n",
    "dict_info.pop(\"Portal\") # Eleminamos un item usando su clave con pop()\n",
    "\n",
    "list(dict_info.items()) # Comprobamos que hemos eliminado el item "
   ]
  },
  {
   "cell_type": "markdown",
   "metadata": {},
   "source": [
    "#### Tuplas"
   ]
  },
  {
   "cell_type": "code",
   "execution_count": 127,
   "metadata": {},
   "outputs": [
    {
     "name": "stdout",
     "output_type": "stream",
     "text": [
      "<class 'tuple'>\n",
      "['Empire', 'Levis', 'Vans']\n",
      "('Empire', 'Levis', 'Vans')\n",
      "Empire\n",
      "<class 'list'>\n"
     ]
    }
   ],
   "source": [
    "# 13: \n",
    "\n",
    "tupla_ropa = (\"Empire\", \"Levis\", \"Vans\")\n",
    "print(type(tupla_ropa)) # comprobamos que clase de variable es\n",
    "\n",
    "# 14:\n",
    "\n",
    "print(list(tupla_ropa)) # así mostramos todos los elementos de la tupla\n",
    "print(tupla_ropa[0:]) # así tambien de otra manera con el indice\n",
    "print(tupla_ropa[0]) # así solo un elemento, en este caso el primero\n",
    "\n",
    "# 15:\n",
    "\n",
    "lista_ropa = list(tupla_ropa) # con list convertimos la tupla en lista\n",
    "print(type(lista_ropa))"
   ]
  },
  {
   "cell_type": "markdown",
   "metadata": {},
   "source": [
    "## Ejercicio 2: Funciones (1.5 puntos)"
   ]
  },
  {
   "cell_type": "markdown",
   "metadata": {},
   "source": [
    "1. Crea una función que, dado un input `x`, devuelva \n",
    "$$\n",
    "y = 4x + 2\n",
    "$$\n",
    "\n",
    "2. Crea una función que, dado un input `x`, devuelva \n",
    "$$\n",
    "y = 3x^2 + 4x + 2\n",
    "$$\n",
    "\n",
    "3. Dado el polinomio\n",
    "\n",
    "$$\n",
    "a_nx^n + a_{n-1}x^{n-1} + ... + a_1x + a_0\n",
    "$$\n",
    "\n",
    "Crea una función que reciba como input `x` y una lista de `[a_0, ..., a_n]` y devuelva el valor del polinomio en `x`.\n",
    "\n",
    "**Nota**: En caso de no poder con una función, hacerlo como se pueda.\n",
    "\n",
    "**Pista**: El primero cumple `n = 1` y los parámetros son `[2, 4]`. El segundo: `n = 2` y los parámetros `[2, 4, 3]`. Con esta información, intenta generalizar."
   ]
  },
  {
   "cell_type": "markdown",
   "metadata": {},
   "source": [
    "## Ejercicio 3: Git (1 punto)"
   ]
  },
  {
   "cell_type": "markdown",
   "metadata": {},
   "source": [
    "Di si las siguientes afirmaciones son verdaderas o falsas. En caso de ser falsa, justifica tu respuesta.\n",
    "\n",
    "1. Git es un sistema de control de versiones: **TRUE**\n",
    "2. Con `git pull` subimos los cambios al remoto: **FALSE** Lo que hacemos es BAJAR los cambios del repositorio remoto\n",
    "3. En clase usamos `HTTP` como protocolo para comunicarnos con el remoto: **FALSE** Utilizamos el protocolo SSH\n",
    "4. El README contiene la información resumida del proyecto: **TRUE** \n",
    "5. Para trackear los ficheros hacemos `git commit`: **TRUE**"
   ]
  },
  {
   "cell_type": "markdown",
   "metadata": {},
   "source": [
    "## Ejercicio 4: Flujos de Control (1.5 puntos)"
   ]
  },
  {
   "cell_type": "markdown",
   "metadata": {},
   "source": [
    "1. Hacer un programa que permita saber si un año es bisiesto. Para que un año sea bisiesto debe ser divisible por 4 y no debe ser divisible por 100, excepto que también sea divisible por 400.\n",
    "2. Hacer un programa que, dado un número, nos diga si es Real o Entero.\n",
    "3. Declara una variable numérica que será una hora cualquiera del día. Implementa mediante sentencias `if/elif/else` la siguiente casuística:\n",
    "   * Si es entre las 0 y las 8, print \"Durmiendo\"\n",
    "   * Si es entre las 9 y las 18, print \"Trabajando\"\n",
    "   * Si es entre las 19 y las 21, print \"Clase\"\n",
    "   * Si es entre las 22 y las 24, print \"Descanso\"\n",
    "   * En cualquier otro caso, print \"Transporte o error\""
   ]
  },
  {
   "cell_type": "code",
   "execution_count": 129,
   "metadata": {},
   "outputs": [
    {
     "name": "stdout",
     "output_type": "stream",
     "text": [
      "Durmiendo\n"
     ]
    }
   ],
   "source": [
    "\n",
    "# 3:\n",
    "\n",
    "hour_ramdom = 23\n",
    "\n",
    "if hour_ramdom >= 0 and hour_ramdom <= 8:\n",
    "    print(\"Durmiendo\")\n",
    "    \n",
    "elif hour_ramdom >= 9 and hour_ramdom <= 18:\n",
    "    print(\"Trabajando\")\n",
    "    \n",
    "elif  hour_ramdom >= 19 and hour_ramdom <= 21:\n",
    "    print(\"Clase\")\n",
    "    \n",
    "elif hour_ramdom >= 22 and hour_ramdom <= 24:\n",
    "    print(\"Descansando\")\n",
    "    \n",
    "else:\n",
    "    print(\"Transporte o error\")"
   ]
  },
  {
   "cell_type": "markdown",
   "metadata": {},
   "source": [
    "## Ejercicio 5: Calculadora simple (2 Puntos)"
   ]
  },
  {
   "cell_type": "markdown",
   "metadata": {},
   "source": [
    "Construye un programa que:\n",
    "\n",
    "- Salude al usuario por su nombre\n",
    "- Le pregunte si quiere sumar, restar, multiplicar o dividir\n",
    "- Pida que introduzca 2 números de manera sucesiva\n",
    "- Devuelva el resultado de manera formal con un mensaje apropiado \n",
    "\n",
    "**Ayuda**: No se puede dividir por 0"
   ]
  },
  {
   "cell_type": "code",
   "execution_count": 2,
   "metadata": {},
   "outputs": [
    {
     "name": "stdout",
     "output_type": "stream",
     "text": [
      "Hola Antonio\n",
      "De acuerdo, has escogido el 3 y el 3\n",
      "El resultado que buscas es: 3 x 3 = 9\n"
     ]
    }
   ],
   "source": [
    "name_user = str(input(\"Hola! Ha activado la CALCULADORA SIMPLE Introcuzca su nombre para comenzar: \"))\n",
    "\n",
    "print(f\"Hola {name_user}\")\n",
    "\n",
    "simbolo = input(\"¿Qué quieres hacer sumar\\n restar\\n multiplicar\\n o dividir\\n\")\n",
    "\n",
    "num_1 = int(input(\"Dime el primer número: \"))\n",
    "num_2 = int(input(f\"Ahora dime el segundo número: \"))\n",
    "\n",
    "if simbolo == \"sumar\":\n",
    "    print(f\"El resultado que buscas es: {num_1} + {num_2} =\",(num_1+num_2))\n",
    "elif simbolo == \"restar\":\n",
    "    print(f\"El resultado que buscas es: {num_1} - {num_2} =\",(num_1-num_2))\n",
    "elif simbolo == \"multiplicar\":\n",
    "    print(f\"El resultado que buscas es: {num_1} x {num_2} =\",(num_1*num_2))\n",
    "elif simbolo == \"dividir\":\n",
    "    print(f\"El resultado que buscas es: {num_1} / {num_2} =\",(num_1/num_2))\n",
    "else:\n",
    "    print(f\"Error: debes escribir lo que quieres hacer en minusculas. Pruebe de nuevo gracias\")"
   ]
  },
  {
   "cell_type": "code",
   "execution_count": 1,
   "metadata": {},
   "outputs": [
    {
     "name": "stdout",
     "output_type": "stream",
     "text": [
      "Ha activado la CALCULADORA SIMPLE\n",
      "Bienvenido Alberto\n",
      "Primer número: 6.0\n",
      "Operación: +\n",
      "Segundo número: 5.0\n",
      "El resultado de 6.0 + 5.0 es 11.0\n"
     ]
    }
   ],
   "source": []
  },
  {
   "cell_type": "markdown",
   "metadata": {},
   "source": [
    "## Ejercicio 6 (Subir Nota): Text Beautifier"
   ]
  },
  {
   "cell_type": "markdown",
   "metadata": {},
   "source": [
    "Dado el string `\"HeyYy cOmo EstAas\"`:\n",
    "\n",
    "    - Pasa todo a minúsculas con el método adecuado de la clase `str`\n",
    "    - Pon las iniciales de cada palabra en mayúscula\n",
    "    - Convierte el string en una lista de palabras\n",
    "    - Elimina las `y`"
   ]
  },
  {
   "cell_type": "markdown",
   "metadata": {},
   "source": [
    "## Ejercicio Extra: Calculadora (Python Badge)"
   ]
  },
  {
   "cell_type": "markdown",
   "metadata": {},
   "source": [
    "Construye una calculadora que sea como la anterior pero:\n",
    "\n",
    "- Acepte tantos valores de entrada como queramos\n",
    "- Devuelva mensajes con las cuentas que se van haciendo.\n",
    "- Permita salir con una palabra clave (exit, quit, ...)"
   ]
  },
  {
   "cell_type": "code",
   "execution_count": 2,
   "metadata": {},
   "outputs": [
    {
     "name": "stdout",
     "output_type": "stream",
     "text": [
      "Ha activado la CALCULADORA\n",
      "Bienvenido Alberto\n",
      "Valor: 6.0\n",
      "Operación: /\n",
      "Valor: 7.0\n",
      "====================================================================================================\n",
      "SUBTOTAL: 0.8571428571428571\n",
      "Operación: +\n",
      "Valor: 9.0\n",
      "====================================================================================================\n",
      "SUBTOTAL: 9.857142857142858\n",
      "Operación: -\n",
      "Valor: 6.0\n",
      "====================================================================================================\n",
      "SUBTOTAL: 3.8571428571428577\n",
      "\n",
      "TOTAL: 3.8571428571428577\n",
      "\n",
      "\n",
      "\n",
      "CERRANDO CALCULADORA...\n",
      "Hasta pronto Alberto\n"
     ]
    }
   ],
   "source": []
  }
 ],
 "metadata": {
  "kernelspec": {
   "display_name": "Python 3.7.4 64-bit",
   "language": "python",
   "name": "python3"
  },
  "language_info": {
   "codemirror_mode": {
    "name": "ipython",
    "version": 3
   },
   "file_extension": ".py",
   "mimetype": "text/x-python",
   "name": "python",
   "nbconvert_exporter": "python",
   "pygments_lexer": "ipython3",
   "version": "3.7.4"
  },
  "orig_nbformat": 4,
  "vscode": {
   "interpreter": {
    "hash": "aee8b7b246df8f9039afb4144a1f6fd8d2ca17a180786b69acc140d282b71a49"
   }
  }
 },
 "nbformat": 4,
 "nbformat_minor": 2
}
