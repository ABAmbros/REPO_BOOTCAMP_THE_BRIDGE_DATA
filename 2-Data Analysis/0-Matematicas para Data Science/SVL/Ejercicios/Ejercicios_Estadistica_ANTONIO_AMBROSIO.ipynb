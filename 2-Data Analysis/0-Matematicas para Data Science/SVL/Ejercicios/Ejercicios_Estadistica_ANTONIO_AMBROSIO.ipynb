{
 "cells": [
  {
   "cell_type": "markdown",
   "metadata": {},
   "source": [
    "# Ejercicios de Estadística Descriptiva"
   ]
  },
  {
   "cell_type": "markdown",
   "metadata": {},
   "source": [
    "## Univariante"
   ]
  },
  {
   "cell_type": "markdown",
   "metadata": {},
   "source": [
    "# Ejercicio 1\n",
    "\n",
    "Las cifras dadas en la tabla adjunta corresponden a miligramos de hidroxiprolina absorbidos por 1 miligramo de masa intestinal, analizados en distintos pacientes:\n",
    "\n",
    "| hidroxipolina (mg) | 77.3 | 61.2 | 82.4 | 75.9 | 61 | 70.2 | 65 | 80 |\n",
    "|--------------------|------|------|------|------|----|------|----|----|\n",
    "| nº pacientes       | 3    | 10   | 15   | 13   | 8  | 5    | 2  | 0  |\n",
    "\n",
    "Se pide:\n",
    "\n",
    "1. Confeccionar la tabla de frecuencias.\n",
    "2. Calcular la media, mediana, moda y cuartiles.\n",
    "3. Calcular la desviación típica de la muestra.\n",
    "4. ¿Qué porcentaje de observaciones se concentra en el intervalo $(x −5\\sigma,x +5\\sigma)$?"
   ]
  },
  {
   "cell_type": "code",
   "execution_count": 1,
   "metadata": {},
   "outputs": [],
   "source": [
    "import pandas as pd"
   ]
  },
  {
   "cell_type": "code",
   "execution_count": 2,
   "metadata": {},
   "outputs": [],
   "source": [
    "hidro_mg = [77.3, 61.2, 82.4, 75.9, 61, 70.2, 65, 80]\n",
    "n_pacientes = [3, 10, 15, 13, 8, 5, 2, 0]"
   ]
  },
  {
   "cell_type": "code",
   "execution_count": null,
   "metadata": {},
   "outputs": [],
   "source": []
  },
  {
   "cell_type": "markdown",
   "metadata": {},
   "source": [
    "1. Confeccionar la tabla de frecuencias."
   ]
  },
  {
   "cell_type": "code",
   "execution_count": 5,
   "metadata": {},
   "outputs": [],
   "source": [
    "freq = pd.DataFrame({'x_i': hidro_mg, 'n_i': n_pacientes})\n",
    "freq = freq.sort_values(by=\"x_i\")"
   ]
  },
  {
   "cell_type": "code",
   "execution_count": 6,
   "metadata": {},
   "outputs": [
    {
     "data": {
      "text/html": [
       "<div>\n",
       "<style scoped>\n",
       "    .dataframe tbody tr th:only-of-type {\n",
       "        vertical-align: middle;\n",
       "    }\n",
       "\n",
       "    .dataframe tbody tr th {\n",
       "        vertical-align: top;\n",
       "    }\n",
       "\n",
       "    .dataframe thead th {\n",
       "        text-align: right;\n",
       "    }\n",
       "</style>\n",
       "<table border=\"1\" class=\"dataframe\">\n",
       "  <thead>\n",
       "    <tr style=\"text-align: right;\">\n",
       "      <th></th>\n",
       "      <th>x_i</th>\n",
       "      <th>n_i</th>\n",
       "    </tr>\n",
       "  </thead>\n",
       "  <tbody>\n",
       "    <tr>\n",
       "      <th>4</th>\n",
       "      <td>61.0</td>\n",
       "      <td>8</td>\n",
       "    </tr>\n",
       "    <tr>\n",
       "      <th>1</th>\n",
       "      <td>61.2</td>\n",
       "      <td>10</td>\n",
       "    </tr>\n",
       "    <tr>\n",
       "      <th>6</th>\n",
       "      <td>65.0</td>\n",
       "      <td>2</td>\n",
       "    </tr>\n",
       "    <tr>\n",
       "      <th>5</th>\n",
       "      <td>70.2</td>\n",
       "      <td>5</td>\n",
       "    </tr>\n",
       "    <tr>\n",
       "      <th>3</th>\n",
       "      <td>75.9</td>\n",
       "      <td>13</td>\n",
       "    </tr>\n",
       "    <tr>\n",
       "      <th>0</th>\n",
       "      <td>77.3</td>\n",
       "      <td>3</td>\n",
       "    </tr>\n",
       "    <tr>\n",
       "      <th>7</th>\n",
       "      <td>80.0</td>\n",
       "      <td>0</td>\n",
       "    </tr>\n",
       "    <tr>\n",
       "      <th>2</th>\n",
       "      <td>82.4</td>\n",
       "      <td>15</td>\n",
       "    </tr>\n",
       "  </tbody>\n",
       "</table>\n",
       "</div>"
      ],
      "text/plain": [
       "    x_i  n_i\n",
       "4  61.0    8\n",
       "1  61.2   10\n",
       "6  65.0    2\n",
       "5  70.2    5\n",
       "3  75.9   13\n",
       "0  77.3    3\n",
       "7  80.0    0\n",
       "2  82.4   15"
      ]
     },
     "execution_count": 6,
     "metadata": {},
     "output_type": "execute_result"
    }
   ],
   "source": [
    "freq"
   ]
  },
  {
   "cell_type": "markdown",
   "metadata": {},
   "source": [
    "Calculamos la Frecuencia acumulada (F_i) para poder calcular la mediana"
   ]
  },
  {
   "cell_type": "code",
   "execution_count": 7,
   "metadata": {},
   "outputs": [
    {
     "data": {
      "text/html": [
       "<div>\n",
       "<style scoped>\n",
       "    .dataframe tbody tr th:only-of-type {\n",
       "        vertical-align: middle;\n",
       "    }\n",
       "\n",
       "    .dataframe tbody tr th {\n",
       "        vertical-align: top;\n",
       "    }\n",
       "\n",
       "    .dataframe thead th {\n",
       "        text-align: right;\n",
       "    }\n",
       "</style>\n",
       "<table border=\"1\" class=\"dataframe\">\n",
       "  <thead>\n",
       "    <tr style=\"text-align: right;\">\n",
       "      <th></th>\n",
       "      <th>x_i</th>\n",
       "      <th>n_i</th>\n",
       "      <th>N_i</th>\n",
       "    </tr>\n",
       "  </thead>\n",
       "  <tbody>\n",
       "    <tr>\n",
       "      <th>4</th>\n",
       "      <td>61.0</td>\n",
       "      <td>8</td>\n",
       "      <td>8</td>\n",
       "    </tr>\n",
       "    <tr>\n",
       "      <th>1</th>\n",
       "      <td>61.2</td>\n",
       "      <td>10</td>\n",
       "      <td>18</td>\n",
       "    </tr>\n",
       "    <tr>\n",
       "      <th>6</th>\n",
       "      <td>65.0</td>\n",
       "      <td>2</td>\n",
       "      <td>20</td>\n",
       "    </tr>\n",
       "    <tr>\n",
       "      <th>5</th>\n",
       "      <td>70.2</td>\n",
       "      <td>5</td>\n",
       "      <td>25</td>\n",
       "    </tr>\n",
       "    <tr>\n",
       "      <th>3</th>\n",
       "      <td>75.9</td>\n",
       "      <td>13</td>\n",
       "      <td>38</td>\n",
       "    </tr>\n",
       "    <tr>\n",
       "      <th>0</th>\n",
       "      <td>77.3</td>\n",
       "      <td>3</td>\n",
       "      <td>41</td>\n",
       "    </tr>\n",
       "    <tr>\n",
       "      <th>7</th>\n",
       "      <td>80.0</td>\n",
       "      <td>0</td>\n",
       "      <td>41</td>\n",
       "    </tr>\n",
       "    <tr>\n",
       "      <th>2</th>\n",
       "      <td>82.4</td>\n",
       "      <td>15</td>\n",
       "      <td>56</td>\n",
       "    </tr>\n",
       "  </tbody>\n",
       "</table>\n",
       "</div>"
      ],
      "text/plain": [
       "    x_i  n_i  N_i\n",
       "4  61.0    8    8\n",
       "1  61.2   10   18\n",
       "6  65.0    2   20\n",
       "5  70.2    5   25\n",
       "3  75.9   13   38\n",
       "0  77.3    3   41\n",
       "7  80.0    0   41\n",
       "2  82.4   15   56"
      ]
     },
     "execution_count": 7,
     "metadata": {},
     "output_type": "execute_result"
    }
   ],
   "source": [
    "freq['N_i'] = freq['n_i'].cumsum()\n",
    "freq"
   ]
  },
  {
   "cell_type": "markdown",
   "metadata": {},
   "source": [
    "2. Calcular la media, mediana, moda y cuartiles."
   ]
  },
  {
   "cell_type": "markdown",
   "metadata": {},
   "source": [
    "MEDIANA:"
   ]
  },
  {
   "cell_type": "code",
   "execution_count": 9,
   "metadata": {},
   "outputs": [
    {
     "data": {
      "text/plain": [
       "x_i    61.0\n",
       "n_i     8.0\n",
       "N_i     8.0\n",
       "Name: 4, dtype: float64"
      ]
     },
     "execution_count": 9,
     "metadata": {},
     "output_type": "execute_result"
    }
   ],
   "source": [
    "freq[freq['N_i'] >= 0.5].iloc[0]"
   ]
  },
  {
   "cell_type": "code",
   "execution_count": 10,
   "metadata": {},
   "outputs": [
    {
     "name": "stdout",
     "output_type": "stream",
     "text": [
      "La mediana es 61.00\n"
     ]
    }
   ],
   "source": [
    "mediana = freq[freq['N_i'] >= 0.5].iloc[0, 0]\n",
    "print(\"La mediana es {:.2f}\".format(mediana))"
   ]
  },
  {
   "cell_type": "markdown",
   "metadata": {},
   "source": [
    "MEDIA:"
   ]
  },
  {
   "cell_type": "code",
   "execution_count": 19,
   "metadata": {},
   "outputs": [
    {
     "name": "stdout",
     "output_type": "stream",
     "text": [
      "La media es de 72.06429\n"
     ]
    }
   ],
   "source": [
    "media = sum([x * y for x, y in zip(hidro_mg, n_pacientes)]) / sum(n_pacientes)\n",
    "print(\"La media es de {:.5f}\".format(media))"
   ]
  },
  {
   "cell_type": "markdown",
   "metadata": {},
   "source": [
    "MODA:"
   ]
  },
  {
   "cell_type": "code",
   "execution_count": 20,
   "metadata": {},
   "outputs": [
    {
     "data": {
      "text/html": [
       "<div>\n",
       "<style scoped>\n",
       "    .dataframe tbody tr th:only-of-type {\n",
       "        vertical-align: middle;\n",
       "    }\n",
       "\n",
       "    .dataframe tbody tr th {\n",
       "        vertical-align: top;\n",
       "    }\n",
       "\n",
       "    .dataframe thead th {\n",
       "        text-align: right;\n",
       "    }\n",
       "</style>\n",
       "<table border=\"1\" class=\"dataframe\">\n",
       "  <thead>\n",
       "    <tr style=\"text-align: right;\">\n",
       "      <th></th>\n",
       "      <th>x_i</th>\n",
       "      <th>n_i</th>\n",
       "      <th>N_i</th>\n",
       "      <th>f_i</th>\n",
       "      <th>f_i (%)</th>\n",
       "      <th>N_i (%)</th>\n",
       "    </tr>\n",
       "  </thead>\n",
       "  <tbody>\n",
       "    <tr>\n",
       "      <th>4</th>\n",
       "      <td>61.0</td>\n",
       "      <td>8</td>\n",
       "      <td>0.142857</td>\n",
       "      <td>0.142857</td>\n",
       "      <td>14.285714</td>\n",
       "      <td>14.285714</td>\n",
       "    </tr>\n",
       "    <tr>\n",
       "      <th>1</th>\n",
       "      <td>61.2</td>\n",
       "      <td>10</td>\n",
       "      <td>0.321429</td>\n",
       "      <td>0.178571</td>\n",
       "      <td>17.857143</td>\n",
       "      <td>32.142857</td>\n",
       "    </tr>\n",
       "    <tr>\n",
       "      <th>6</th>\n",
       "      <td>65.0</td>\n",
       "      <td>2</td>\n",
       "      <td>0.357143</td>\n",
       "      <td>0.035714</td>\n",
       "      <td>3.571429</td>\n",
       "      <td>35.714286</td>\n",
       "    </tr>\n",
       "    <tr>\n",
       "      <th>5</th>\n",
       "      <td>70.2</td>\n",
       "      <td>5</td>\n",
       "      <td>0.446429</td>\n",
       "      <td>0.089286</td>\n",
       "      <td>8.928571</td>\n",
       "      <td>44.642857</td>\n",
       "    </tr>\n",
       "    <tr>\n",
       "      <th>3</th>\n",
       "      <td>75.9</td>\n",
       "      <td>13</td>\n",
       "      <td>0.678571</td>\n",
       "      <td>0.232143</td>\n",
       "      <td>23.214286</td>\n",
       "      <td>67.857143</td>\n",
       "    </tr>\n",
       "    <tr>\n",
       "      <th>0</th>\n",
       "      <td>77.3</td>\n",
       "      <td>3</td>\n",
       "      <td>0.732143</td>\n",
       "      <td>0.053571</td>\n",
       "      <td>5.357143</td>\n",
       "      <td>73.214286</td>\n",
       "    </tr>\n",
       "    <tr>\n",
       "      <th>7</th>\n",
       "      <td>80.0</td>\n",
       "      <td>0</td>\n",
       "      <td>0.732143</td>\n",
       "      <td>0.000000</td>\n",
       "      <td>0.000000</td>\n",
       "      <td>73.214286</td>\n",
       "    </tr>\n",
       "    <tr>\n",
       "      <th>2</th>\n",
       "      <td>82.4</td>\n",
       "      <td>15</td>\n",
       "      <td>1.000000</td>\n",
       "      <td>0.267857</td>\n",
       "      <td>26.785714</td>\n",
       "      <td>100.000000</td>\n",
       "    </tr>\n",
       "  </tbody>\n",
       "</table>\n",
       "</div>"
      ],
      "text/plain": [
       "    x_i  n_i       N_i       f_i    f_i (%)     N_i (%)\n",
       "4  61.0    8  0.142857  0.142857  14.285714   14.285714\n",
       "1  61.2   10  0.321429  0.178571  17.857143   32.142857\n",
       "6  65.0    2  0.357143  0.035714   3.571429   35.714286\n",
       "5  70.2    5  0.446429  0.089286   8.928571   44.642857\n",
       "3  75.9   13  0.678571  0.232143  23.214286   67.857143\n",
       "0  77.3    3  0.732143  0.053571   5.357143   73.214286\n",
       "7  80.0    0  0.732143  0.000000   0.000000   73.214286\n",
       "2  82.4   15  1.000000  0.267857  26.785714  100.000000"
      ]
     },
     "execution_count": 20,
     "metadata": {},
     "output_type": "execute_result"
    }
   ],
   "source": [
    "freq"
   ]
  },
  {
   "cell_type": "code",
   "execution_count": 21,
   "metadata": {},
   "outputs": [
    {
     "name": "stdout",
     "output_type": "stream",
     "text": [
      "La moda es 82.4\n"
     ]
    }
   ],
   "source": [
    "moda = freq['x_i'][freq['n_i']==freq['n_i'].max()].values\n",
    "print(\"La moda es {0}\".format(*moda))"
   ]
  },
  {
   "cell_type": "markdown",
   "metadata": {},
   "source": [
    "CUARTILES: 25% y 75%\n",
    "\n",
    "Para ello necesitamos calcular la Frecuencia relativa y la Frecuencia relativa acumulada.\n"
   ]
  },
  {
   "cell_type": "markdown",
   "metadata": {},
   "source": [
    "Frecuencia relativa:"
   ]
  },
  {
   "cell_type": "code",
   "execution_count": 22,
   "metadata": {},
   "outputs": [
    {
     "data": {
      "text/html": [
       "<div>\n",
       "<style scoped>\n",
       "    .dataframe tbody tr th:only-of-type {\n",
       "        vertical-align: middle;\n",
       "    }\n",
       "\n",
       "    .dataframe tbody tr th {\n",
       "        vertical-align: top;\n",
       "    }\n",
       "\n",
       "    .dataframe thead th {\n",
       "        text-align: right;\n",
       "    }\n",
       "</style>\n",
       "<table border=\"1\" class=\"dataframe\">\n",
       "  <thead>\n",
       "    <tr style=\"text-align: right;\">\n",
       "      <th></th>\n",
       "      <th>x_i</th>\n",
       "      <th>n_i</th>\n",
       "      <th>N_i</th>\n",
       "      <th>f_i</th>\n",
       "      <th>f_i (%)</th>\n",
       "      <th>N_i (%)</th>\n",
       "    </tr>\n",
       "  </thead>\n",
       "  <tbody>\n",
       "    <tr>\n",
       "      <th>4</th>\n",
       "      <td>61.0</td>\n",
       "      <td>8</td>\n",
       "      <td>0.142857</td>\n",
       "      <td>0.142857</td>\n",
       "      <td>14.285714</td>\n",
       "      <td>14.285714</td>\n",
       "    </tr>\n",
       "    <tr>\n",
       "      <th>1</th>\n",
       "      <td>61.2</td>\n",
       "      <td>10</td>\n",
       "      <td>0.321429</td>\n",
       "      <td>0.178571</td>\n",
       "      <td>17.857143</td>\n",
       "      <td>32.142857</td>\n",
       "    </tr>\n",
       "    <tr>\n",
       "      <th>6</th>\n",
       "      <td>65.0</td>\n",
       "      <td>2</td>\n",
       "      <td>0.357143</td>\n",
       "      <td>0.035714</td>\n",
       "      <td>3.571429</td>\n",
       "      <td>35.714286</td>\n",
       "    </tr>\n",
       "    <tr>\n",
       "      <th>5</th>\n",
       "      <td>70.2</td>\n",
       "      <td>5</td>\n",
       "      <td>0.446429</td>\n",
       "      <td>0.089286</td>\n",
       "      <td>8.928571</td>\n",
       "      <td>44.642857</td>\n",
       "    </tr>\n",
       "    <tr>\n",
       "      <th>3</th>\n",
       "      <td>75.9</td>\n",
       "      <td>13</td>\n",
       "      <td>0.678571</td>\n",
       "      <td>0.232143</td>\n",
       "      <td>23.214286</td>\n",
       "      <td>67.857143</td>\n",
       "    </tr>\n",
       "    <tr>\n",
       "      <th>0</th>\n",
       "      <td>77.3</td>\n",
       "      <td>3</td>\n",
       "      <td>0.732143</td>\n",
       "      <td>0.053571</td>\n",
       "      <td>5.357143</td>\n",
       "      <td>73.214286</td>\n",
       "    </tr>\n",
       "    <tr>\n",
       "      <th>7</th>\n",
       "      <td>80.0</td>\n",
       "      <td>0</td>\n",
       "      <td>0.732143</td>\n",
       "      <td>0.000000</td>\n",
       "      <td>0.000000</td>\n",
       "      <td>73.214286</td>\n",
       "    </tr>\n",
       "    <tr>\n",
       "      <th>2</th>\n",
       "      <td>82.4</td>\n",
       "      <td>15</td>\n",
       "      <td>1.000000</td>\n",
       "      <td>0.267857</td>\n",
       "      <td>26.785714</td>\n",
       "      <td>100.000000</td>\n",
       "    </tr>\n",
       "  </tbody>\n",
       "</table>\n",
       "</div>"
      ],
      "text/plain": [
       "    x_i  n_i       N_i       f_i    f_i (%)     N_i (%)\n",
       "4  61.0    8  0.142857  0.142857  14.285714   14.285714\n",
       "1  61.2   10  0.321429  0.178571  17.857143   32.142857\n",
       "6  65.0    2  0.357143  0.035714   3.571429   35.714286\n",
       "5  70.2    5  0.446429  0.089286   8.928571   44.642857\n",
       "3  75.9   13  0.678571  0.232143  23.214286   67.857143\n",
       "0  77.3    3  0.732143  0.053571   5.357143   73.214286\n",
       "7  80.0    0  0.732143  0.000000   0.000000   73.214286\n",
       "2  82.4   15  1.000000  0.267857  26.785714  100.000000"
      ]
     },
     "execution_count": 22,
     "metadata": {},
     "output_type": "execute_result"
    }
   ],
   "source": [
    "freq['f_i'] = freq['n_i'] / freq['n_i'].sum()\n",
    "freq['f_i (%)'] = freq['f_i'] * 100\n",
    "freq"
   ]
  },
  {
   "cell_type": "markdown",
   "metadata": {},
   "source": [
    "Frecuencia relativa acumulada:"
   ]
  },
  {
   "cell_type": "code",
   "execution_count": 23,
   "metadata": {},
   "outputs": [
    {
     "data": {
      "text/html": [
       "<div>\n",
       "<style scoped>\n",
       "    .dataframe tbody tr th:only-of-type {\n",
       "        vertical-align: middle;\n",
       "    }\n",
       "\n",
       "    .dataframe tbody tr th {\n",
       "        vertical-align: top;\n",
       "    }\n",
       "\n",
       "    .dataframe thead th {\n",
       "        text-align: right;\n",
       "    }\n",
       "</style>\n",
       "<table border=\"1\" class=\"dataframe\">\n",
       "  <thead>\n",
       "    <tr style=\"text-align: right;\">\n",
       "      <th></th>\n",
       "      <th>x_i</th>\n",
       "      <th>n_i</th>\n",
       "      <th>N_i</th>\n",
       "      <th>f_i</th>\n",
       "      <th>f_i (%)</th>\n",
       "      <th>N_i (%)</th>\n",
       "    </tr>\n",
       "  </thead>\n",
       "  <tbody>\n",
       "    <tr>\n",
       "      <th>4</th>\n",
       "      <td>61.0</td>\n",
       "      <td>8</td>\n",
       "      <td>0.142857</td>\n",
       "      <td>0.142857</td>\n",
       "      <td>14.285714</td>\n",
       "      <td>14.285714</td>\n",
       "    </tr>\n",
       "    <tr>\n",
       "      <th>1</th>\n",
       "      <td>61.2</td>\n",
       "      <td>10</td>\n",
       "      <td>0.321429</td>\n",
       "      <td>0.178571</td>\n",
       "      <td>17.857143</td>\n",
       "      <td>32.142857</td>\n",
       "    </tr>\n",
       "    <tr>\n",
       "      <th>6</th>\n",
       "      <td>65.0</td>\n",
       "      <td>2</td>\n",
       "      <td>0.357143</td>\n",
       "      <td>0.035714</td>\n",
       "      <td>3.571429</td>\n",
       "      <td>35.714286</td>\n",
       "    </tr>\n",
       "    <tr>\n",
       "      <th>5</th>\n",
       "      <td>70.2</td>\n",
       "      <td>5</td>\n",
       "      <td>0.446429</td>\n",
       "      <td>0.089286</td>\n",
       "      <td>8.928571</td>\n",
       "      <td>44.642857</td>\n",
       "    </tr>\n",
       "    <tr>\n",
       "      <th>3</th>\n",
       "      <td>75.9</td>\n",
       "      <td>13</td>\n",
       "      <td>0.678571</td>\n",
       "      <td>0.232143</td>\n",
       "      <td>23.214286</td>\n",
       "      <td>67.857143</td>\n",
       "    </tr>\n",
       "    <tr>\n",
       "      <th>0</th>\n",
       "      <td>77.3</td>\n",
       "      <td>3</td>\n",
       "      <td>0.732143</td>\n",
       "      <td>0.053571</td>\n",
       "      <td>5.357143</td>\n",
       "      <td>73.214286</td>\n",
       "    </tr>\n",
       "    <tr>\n",
       "      <th>7</th>\n",
       "      <td>80.0</td>\n",
       "      <td>0</td>\n",
       "      <td>0.732143</td>\n",
       "      <td>0.000000</td>\n",
       "      <td>0.000000</td>\n",
       "      <td>73.214286</td>\n",
       "    </tr>\n",
       "    <tr>\n",
       "      <th>2</th>\n",
       "      <td>82.4</td>\n",
       "      <td>15</td>\n",
       "      <td>1.000000</td>\n",
       "      <td>0.267857</td>\n",
       "      <td>26.785714</td>\n",
       "      <td>100.000000</td>\n",
       "    </tr>\n",
       "  </tbody>\n",
       "</table>\n",
       "</div>"
      ],
      "text/plain": [
       "    x_i  n_i       N_i       f_i    f_i (%)     N_i (%)\n",
       "4  61.0    8  0.142857  0.142857  14.285714   14.285714\n",
       "1  61.2   10  0.321429  0.178571  17.857143   32.142857\n",
       "6  65.0    2  0.357143  0.035714   3.571429   35.714286\n",
       "5  70.2    5  0.446429  0.089286   8.928571   44.642857\n",
       "3  75.9   13  0.678571  0.232143  23.214286   67.857143\n",
       "0  77.3    3  0.732143  0.053571   5.357143   73.214286\n",
       "7  80.0    0  0.732143  0.000000   0.000000   73.214286\n",
       "2  82.4   15  1.000000  0.267857  26.785714  100.000000"
      ]
     },
     "execution_count": 23,
     "metadata": {},
     "output_type": "execute_result"
    }
   ],
   "source": [
    "freq['N_i'] = freq['f_i'].cumsum()\n",
    "freq['N_i (%)'] = freq['f_i (%)'].cumsum()\n",
    "freq"
   ]
  },
  {
   "cell_type": "code",
   "execution_count": 24,
   "metadata": {},
   "outputs": [
    {
     "name": "stdout",
     "output_type": "stream",
     "text": [
      "El cuartil 1 es 61.20\n"
     ]
    }
   ],
   "source": [
    "cuartil1 = freq[freq['N_i'] >= 0.25].iloc[0, 0]\n",
    "print(\"El cuartil 1 es {:.2f}\".format(cuartil1))"
   ]
  },
  {
   "cell_type": "code",
   "execution_count": 28,
   "metadata": {},
   "outputs": [
    {
     "name": "stdout",
     "output_type": "stream",
     "text": [
      "El cuartil 3 es 82.40\n"
     ]
    }
   ],
   "source": [
    "cuartil3 = freq[freq['N_i'] >= 0.75].iloc[0, 0]\n",
    "print(\"El cuartil 3 es {:.2f}\".format(cuartil3))"
   ]
  },
  {
   "cell_type": "markdown",
   "metadata": {},
   "source": [
    "3. Calcular la desviación típica de la muestra."
   ]
  },
  {
   "cell_type": "code",
   "execution_count": 27,
   "metadata": {},
   "outputs": [
    {
     "name": "stdout",
     "output_type": "stream",
     "text": [
      "La desviación típica es de 64.44\n"
     ]
    }
   ],
   "source": [
    "desviaciones = ((freq['x_i'] - media)** 2) * freq['n_i']\n",
    "var = desviaciones.sum() / freq['N_i'].iloc[-1]\n",
    "std = var ** 0.5\n",
    "\n",
    "print(\"La desviación típica es de {:.2f}\".format(std))"
   ]
  },
  {
   "cell_type": "code",
   "execution_count": 29,
   "metadata": {},
   "outputs": [
    {
     "data": {
      "text/plain": [
       "64.44197833267204"
      ]
     },
     "execution_count": 29,
     "metadata": {},
     "output_type": "execute_result"
    }
   ],
   "source": [
    "std = var ** 0.5\n",
    "std"
   ]
  },
  {
   "cell_type": "markdown",
   "metadata": {},
   "source": [
    "4. ¿Qué porcentaje de observaciones se concentra en el intervalo $(x −5\\sigma,x +5\\sigma)$?"
   ]
  },
  {
   "cell_type": "code",
   "execution_count": null,
   "metadata": {},
   "outputs": [],
   "source": []
  },
  {
   "cell_type": "markdown",
   "metadata": {},
   "source": [
    "# Multivariante"
   ]
  },
  {
   "cell_type": "markdown",
   "metadata": {},
   "source": [
    "# Ejercicio 2"
   ]
  },
  {
   "cell_type": "markdown",
   "metadata": {},
   "source": [
    "Los valores del pH sanguíneo de 32 individuos son los siguientes:\n",
    "\n",
    "|7.33 |7.31 |7.26 |7.33 |7.37 |7.27 |7.30 |7.33|\n",
    "|-----|-----|-----|-----|-----|-----|-----|----|\n",
    "|7.33 |7.32 |7.35 |7.39 |7.33 |7.38 |7.33 |7.31|\n",
    "|7.37 |7.35 |7.34 |7.32 |7.29 |7.35 |7.38 |7.32|\n",
    "|7.32 |7.33 |7.32 |7.40 |7.33 |7.32 |7.34 |7.33|\n",
    "\n",
    "1. Agrupar los datos en 5 intervalos y confeccionar la tabla de frecuencias.\n",
    "2. Calcular la media aritmética, la moda y la mediana.\n",
    "3. Hallar el tercer decil.\n",
    "4. Determinar el porcentaje de individuos que se concentra fuera del intervalo $(x −4\\sigma,x +4\\sigma)$"
   ]
  },
  {
   "cell_type": "markdown",
   "metadata": {},
   "source": [
    "# Ejercicio 3"
   ]
  },
  {
   "cell_type": "markdown",
   "metadata": {},
   "source": [
    "En pacientes con distrofia muscular progresiva (enfermedad de Duchenne), la actividad de creatinquinasa sérica se eleva llamativamente sobre el valor normal de 50 unidades por litro. Los siguientes\n",
    "datos son niveles séricos de creatinquinasa (en unidades por litro) medidos en 24 jóvenes pacientes con la enfermedad confirmada:\n",
    "\n",
    "|3720 |3795 |3340 |5600 |3800 |3580|\n",
    "|-----|-----|-----|-----|-----|----|\n",
    "|5500 |2000 |1570 |2360 |1500 |1840|\n",
    "|3725 |3790 |3345 |3805 |5595 |3575|\n",
    "|1995 |5505 |2055 |1575 |1835 |1505|\n",
    "\n",
    "Se pide:\n",
    "\n",
    "1. Agrupar los datos en 5 intervalos de clase.\n",
    "2. Determinar la media y la desviación típica. Calcular la moda y la mediana.\n",
    "3. Determinar el tercer cuartil, el séptimo decil y el centil 25."
   ]
  },
  {
   "cell_type": "markdown",
   "metadata": {},
   "source": []
  }
 ],
 "metadata": {
  "kernelspec": {
   "display_name": "Python 3",
   "language": "python",
   "name": "python3"
  },
  "language_info": {
   "codemirror_mode": {
    "name": "ipython",
    "version": 3
   },
   "file_extension": ".py",
   "mimetype": "text/x-python",
   "name": "python",
   "nbconvert_exporter": "python",
   "pygments_lexer": "ipython3",
   "version": "3.7.4"
  },
  "orig_nbformat": 4,
  "vscode": {
   "interpreter": {
    "hash": "aee8b7b246df8f9039afb4144a1f6fd8d2ca17a180786b69acc140d282b71a49"
   }
  }
 },
 "nbformat": 4,
 "nbformat_minor": 2
}
